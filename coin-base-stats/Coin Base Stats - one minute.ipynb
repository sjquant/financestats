{
 "cells": [
  {
   "cell_type": "code",
   "execution_count": 1,
   "metadata": {},
   "outputs": [
    {
     "data": {
      "text/html": [
       "\n",
       "    <div class=\"bk-root\">\n",
       "        <a href=\"https://bokeh.pydata.org\" target=\"_blank\" class=\"bk-logo bk-logo-small bk-logo-notebook\"></a>\n",
       "        <span id=\"46dd9b41-e07e-4ebd-a6e8-d58179e50e86\">Loading BokehJS ...</span>\n",
       "    </div>"
      ]
     },
     "metadata": {},
     "output_type": "display_data"
    },
    {
     "data": {
      "application/javascript": [
       "\n",
       "(function(root) {\n",
       "  function now() {\n",
       "    return new Date();\n",
       "  }\n",
       "\n",
       "  var force = true;\n",
       "\n",
       "  if (typeof (root._bokeh_onload_callbacks) === \"undefined\" || force === true) {\n",
       "    root._bokeh_onload_callbacks = [];\n",
       "    root._bokeh_is_loading = undefined;\n",
       "  }\n",
       "\n",
       "  var JS_MIME_TYPE = 'application/javascript';\n",
       "  var HTML_MIME_TYPE = 'text/html';\n",
       "  var EXEC_MIME_TYPE = 'application/vnd.bokehjs_exec.v0+json';\n",
       "  var CLASS_NAME = 'output_bokeh rendered_html';\n",
       "\n",
       "  /**\n",
       "   * Render data to the DOM node\n",
       "   */\n",
       "  function render(props, node) {\n",
       "    var script = document.createElement(\"script\");\n",
       "    node.appendChild(script);\n",
       "  }\n",
       "\n",
       "  /**\n",
       "   * Handle when an output is cleared or removed\n",
       "   */\n",
       "  function handleClearOutput(event, handle) {\n",
       "    var cell = handle.cell;\n",
       "\n",
       "    var id = cell.output_area._bokeh_element_id;\n",
       "    var server_id = cell.output_area._bokeh_server_id;\n",
       "    // Clean up Bokeh references\n",
       "    if (id !== undefined) {\n",
       "      Bokeh.index[id].model.document.clear();\n",
       "      delete Bokeh.index[id];\n",
       "    }\n",
       "\n",
       "    if (server_id !== undefined) {\n",
       "      // Clean up Bokeh references\n",
       "      var cmd = \"from bokeh.io.state import curstate; print(curstate().uuid_to_server['\" + server_id + \"'].get_sessions()[0].document.roots[0]._id)\";\n",
       "      cell.notebook.kernel.execute(cmd, {\n",
       "        iopub: {\n",
       "          output: function(msg) {\n",
       "            var element_id = msg.content.text.trim();\n",
       "            Bokeh.index[element_id].model.document.clear();\n",
       "            delete Bokeh.index[element_id];\n",
       "          }\n",
       "        }\n",
       "      });\n",
       "      // Destroy server and session\n",
       "      var cmd = \"import bokeh.io.notebook as ion; ion.destroy_server('\" + server_id + \"')\";\n",
       "      cell.notebook.kernel.execute(cmd);\n",
       "    }\n",
       "  }\n",
       "\n",
       "  /**\n",
       "   * Handle when a new output is added\n",
       "   */\n",
       "  function handleAddOutput(event, handle) {\n",
       "    var output_area = handle.output_area;\n",
       "    var output = handle.output;\n",
       "\n",
       "    // limit handleAddOutput to display_data with EXEC_MIME_TYPE content only\n",
       "    if ((output.output_type != \"display_data\") || (!output.data.hasOwnProperty(EXEC_MIME_TYPE))) {\n",
       "      return\n",
       "    }\n",
       "\n",
       "    var toinsert = output_area.element.find(`.${CLASS_NAME.split(' ')[0]}`);\n",
       "\n",
       "    if (output.metadata[EXEC_MIME_TYPE][\"id\"] !== undefined) {\n",
       "      toinsert[0].firstChild.textContent = output.data[JS_MIME_TYPE];\n",
       "      // store reference to embed id on output_area\n",
       "      output_area._bokeh_element_id = output.metadata[EXEC_MIME_TYPE][\"id\"];\n",
       "    }\n",
       "    if (output.metadata[EXEC_MIME_TYPE][\"server_id\"] !== undefined) {\n",
       "      var bk_div = document.createElement(\"div\");\n",
       "      bk_div.innerHTML = output.data[HTML_MIME_TYPE];\n",
       "      var script_attrs = bk_div.children[0].attributes;\n",
       "      for (var i = 0; i < script_attrs.length; i++) {\n",
       "        toinsert[0].firstChild.setAttribute(script_attrs[i].name, script_attrs[i].value);\n",
       "      }\n",
       "      // store reference to server id on output_area\n",
       "      output_area._bokeh_server_id = output.metadata[EXEC_MIME_TYPE][\"server_id\"];\n",
       "    }\n",
       "  }\n",
       "\n",
       "  function register_renderer(events, OutputArea) {\n",
       "\n",
       "    function append_mime(data, metadata, element) {\n",
       "      // create a DOM node to render to\n",
       "      var toinsert = this.create_output_subarea(\n",
       "        metadata,\n",
       "        CLASS_NAME,\n",
       "        EXEC_MIME_TYPE\n",
       "      );\n",
       "      this.keyboard_manager.register_events(toinsert);\n",
       "      // Render to node\n",
       "      var props = {data: data, metadata: metadata[EXEC_MIME_TYPE]};\n",
       "      render(props, toinsert[0]);\n",
       "      element.append(toinsert);\n",
       "      return toinsert\n",
       "    }\n",
       "\n",
       "    /* Handle when an output is cleared or removed */\n",
       "    events.on('clear_output.CodeCell', handleClearOutput);\n",
       "    events.on('delete.Cell', handleClearOutput);\n",
       "\n",
       "    /* Handle when a new output is added */\n",
       "    events.on('output_added.OutputArea', handleAddOutput);\n",
       "\n",
       "    /**\n",
       "     * Register the mime type and append_mime function with output_area\n",
       "     */\n",
       "    OutputArea.prototype.register_mime_type(EXEC_MIME_TYPE, append_mime, {\n",
       "      /* Is output safe? */\n",
       "      safe: true,\n",
       "      /* Index of renderer in `output_area.display_order` */\n",
       "      index: 0\n",
       "    });\n",
       "  }\n",
       "\n",
       "  // register the mime type if in Jupyter Notebook environment and previously unregistered\n",
       "  if (root.Jupyter !== undefined) {\n",
       "    var events = require('base/js/events');\n",
       "    var OutputArea = require('notebook/js/outputarea').OutputArea;\n",
       "\n",
       "    if (OutputArea.prototype.mime_types().indexOf(EXEC_MIME_TYPE) == -1) {\n",
       "      register_renderer(events, OutputArea);\n",
       "    }\n",
       "  }\n",
       "\n",
       "  \n",
       "  if (typeof (root._bokeh_timeout) === \"undefined\" || force === true) {\n",
       "    root._bokeh_timeout = Date.now() + 5000;\n",
       "    root._bokeh_failed_load = false;\n",
       "  }\n",
       "\n",
       "  var NB_LOAD_WARNING = {'data': {'text/html':\n",
       "     \"<div style='background-color: #fdd'>\\n\"+\n",
       "     \"<p>\\n\"+\n",
       "     \"BokehJS does not appear to have successfully loaded. If loading BokehJS from CDN, this \\n\"+\n",
       "     \"may be due to a slow or bad network connection. Possible fixes:\\n\"+\n",
       "     \"</p>\\n\"+\n",
       "     \"<ul>\\n\"+\n",
       "     \"<li>re-rerun `output_notebook()` to attempt to load from CDN again, or</li>\\n\"+\n",
       "     \"<li>use INLINE resources instead, as so:</li>\\n\"+\n",
       "     \"</ul>\\n\"+\n",
       "     \"<code>\\n\"+\n",
       "     \"from bokeh.resources import INLINE\\n\"+\n",
       "     \"output_notebook(resources=INLINE)\\n\"+\n",
       "     \"</code>\\n\"+\n",
       "     \"</div>\"}};\n",
       "\n",
       "  function display_loaded() {\n",
       "    var el = document.getElementById(\"46dd9b41-e07e-4ebd-a6e8-d58179e50e86\");\n",
       "    if (el != null) {\n",
       "      el.textContent = \"BokehJS is loading...\";\n",
       "    }\n",
       "    if (root.Bokeh !== undefined) {\n",
       "      if (el != null) {\n",
       "        el.textContent = \"BokehJS \" + root.Bokeh.version + \" successfully loaded.\";\n",
       "      }\n",
       "    } else if (Date.now() < root._bokeh_timeout) {\n",
       "      setTimeout(display_loaded, 100)\n",
       "    }\n",
       "  }\n",
       "\n",
       "\n",
       "  function run_callbacks() {\n",
       "    try {\n",
       "      root._bokeh_onload_callbacks.forEach(function(callback) { callback() });\n",
       "    }\n",
       "    finally {\n",
       "      delete root._bokeh_onload_callbacks\n",
       "    }\n",
       "    console.info(\"Bokeh: all callbacks have finished\");\n",
       "  }\n",
       "\n",
       "  function load_libs(js_urls, callback) {\n",
       "    root._bokeh_onload_callbacks.push(callback);\n",
       "    if (root._bokeh_is_loading > 0) {\n",
       "      console.log(\"Bokeh: BokehJS is being loaded, scheduling callback at\", now());\n",
       "      return null;\n",
       "    }\n",
       "    if (js_urls == null || js_urls.length === 0) {\n",
       "      run_callbacks();\n",
       "      return null;\n",
       "    }\n",
       "    console.log(\"Bokeh: BokehJS not loaded, scheduling load and callback at\", now());\n",
       "    root._bokeh_is_loading = js_urls.length;\n",
       "    for (var i = 0; i < js_urls.length; i++) {\n",
       "      var url = js_urls[i];\n",
       "      var s = document.createElement('script');\n",
       "      s.src = url;\n",
       "      s.async = false;\n",
       "      s.onreadystatechange = s.onload = function() {\n",
       "        root._bokeh_is_loading--;\n",
       "        if (root._bokeh_is_loading === 0) {\n",
       "          console.log(\"Bokeh: all BokehJS libraries loaded\");\n",
       "          run_callbacks()\n",
       "        }\n",
       "      };\n",
       "      s.onerror = function() {\n",
       "        console.warn(\"failed to load library \" + url);\n",
       "      };\n",
       "      console.log(\"Bokeh: injecting script tag for BokehJS library: \", url);\n",
       "      document.getElementsByTagName(\"head\")[0].appendChild(s);\n",
       "    }\n",
       "  };var element = document.getElementById(\"46dd9b41-e07e-4ebd-a6e8-d58179e50e86\");\n",
       "  if (element == null) {\n",
       "    console.log(\"Bokeh: ERROR: autoload.js configured with elementid '46dd9b41-e07e-4ebd-a6e8-d58179e50e86' but no matching script tag was found. \")\n",
       "    return false;\n",
       "  }\n",
       "\n",
       "  var js_urls = [\"https://cdn.pydata.org/bokeh/release/bokeh-0.12.10.min.js\", \"https://cdn.pydata.org/bokeh/release/bokeh-widgets-0.12.10.min.js\", \"https://cdn.pydata.org/bokeh/release/bokeh-tables-0.12.10.min.js\", \"https://cdn.pydata.org/bokeh/release/bokeh-gl-0.12.10.min.js\"];\n",
       "\n",
       "  var inline_js = [\n",
       "    function(Bokeh) {\n",
       "      Bokeh.set_log_level(\"info\");\n",
       "    },\n",
       "    \n",
       "    function(Bokeh) {\n",
       "      \n",
       "    },\n",
       "    function(Bokeh) {\n",
       "      console.log(\"Bokeh: injecting CSS: https://cdn.pydata.org/bokeh/release/bokeh-0.12.10.min.css\");\n",
       "      Bokeh.embed.inject_css(\"https://cdn.pydata.org/bokeh/release/bokeh-0.12.10.min.css\");\n",
       "      console.log(\"Bokeh: injecting CSS: https://cdn.pydata.org/bokeh/release/bokeh-widgets-0.12.10.min.css\");\n",
       "      Bokeh.embed.inject_css(\"https://cdn.pydata.org/bokeh/release/bokeh-widgets-0.12.10.min.css\");\n",
       "      console.log(\"Bokeh: injecting CSS: https://cdn.pydata.org/bokeh/release/bokeh-tables-0.12.10.min.css\");\n",
       "      Bokeh.embed.inject_css(\"https://cdn.pydata.org/bokeh/release/bokeh-tables-0.12.10.min.css\");\n",
       "    }\n",
       "  ];\n",
       "\n",
       "  function run_inline_js() {\n",
       "    \n",
       "    if ((root.Bokeh !== undefined) || (force === true)) {\n",
       "      for (var i = 0; i < inline_js.length; i++) {\n",
       "        inline_js[i].call(root, root.Bokeh);\n",
       "      }if (force === true) {\n",
       "        display_loaded();\n",
       "      }} else if (Date.now() < root._bokeh_timeout) {\n",
       "      setTimeout(run_inline_js, 100);\n",
       "    } else if (!root._bokeh_failed_load) {\n",
       "      console.log(\"Bokeh: BokehJS failed to load within specified timeout.\");\n",
       "      root._bokeh_failed_load = true;\n",
       "    } else if (force !== true) {\n",
       "      var cell = $(document.getElementById(\"46dd9b41-e07e-4ebd-a6e8-d58179e50e86\")).parents('.cell').data().cell;\n",
       "      cell.output_area.append_execute_result(NB_LOAD_WARNING)\n",
       "    }\n",
       "\n",
       "  }\n",
       "\n",
       "  if (root._bokeh_is_loading === 0) {\n",
       "    console.log(\"Bokeh: BokehJS loaded, going straight to plotting\");\n",
       "    run_inline_js();\n",
       "  } else {\n",
       "    load_libs(js_urls, function() {\n",
       "      console.log(\"Bokeh: BokehJS plotting callback run at\", now());\n",
       "      run_inline_js();\n",
       "    });\n",
       "  }\n",
       "}(window));"
      ],
      "application/vnd.bokehjs_load.v0+json": "\n(function(root) {\n  function now() {\n    return new Date();\n  }\n\n  var force = true;\n\n  if (typeof (root._bokeh_onload_callbacks) === \"undefined\" || force === true) {\n    root._bokeh_onload_callbacks = [];\n    root._bokeh_is_loading = undefined;\n  }\n\n  \n\n  \n  if (typeof (root._bokeh_timeout) === \"undefined\" || force === true) {\n    root._bokeh_timeout = Date.now() + 5000;\n    root._bokeh_failed_load = false;\n  }\n\n  var NB_LOAD_WARNING = {'data': {'text/html':\n     \"<div style='background-color: #fdd'>\\n\"+\n     \"<p>\\n\"+\n     \"BokehJS does not appear to have successfully loaded. If loading BokehJS from CDN, this \\n\"+\n     \"may be due to a slow or bad network connection. Possible fixes:\\n\"+\n     \"</p>\\n\"+\n     \"<ul>\\n\"+\n     \"<li>re-rerun `output_notebook()` to attempt to load from CDN again, or</li>\\n\"+\n     \"<li>use INLINE resources instead, as so:</li>\\n\"+\n     \"</ul>\\n\"+\n     \"<code>\\n\"+\n     \"from bokeh.resources import INLINE\\n\"+\n     \"output_notebook(resources=INLINE)\\n\"+\n     \"</code>\\n\"+\n     \"</div>\"}};\n\n  function display_loaded() {\n    var el = document.getElementById(\"46dd9b41-e07e-4ebd-a6e8-d58179e50e86\");\n    if (el != null) {\n      el.textContent = \"BokehJS is loading...\";\n    }\n    if (root.Bokeh !== undefined) {\n      if (el != null) {\n        el.textContent = \"BokehJS \" + root.Bokeh.version + \" successfully loaded.\";\n      }\n    } else if (Date.now() < root._bokeh_timeout) {\n      setTimeout(display_loaded, 100)\n    }\n  }\n\n\n  function run_callbacks() {\n    try {\n      root._bokeh_onload_callbacks.forEach(function(callback) { callback() });\n    }\n    finally {\n      delete root._bokeh_onload_callbacks\n    }\n    console.info(\"Bokeh: all callbacks have finished\");\n  }\n\n  function load_libs(js_urls, callback) {\n    root._bokeh_onload_callbacks.push(callback);\n    if (root._bokeh_is_loading > 0) {\n      console.log(\"Bokeh: BokehJS is being loaded, scheduling callback at\", now());\n      return null;\n    }\n    if (js_urls == null || js_urls.length === 0) {\n      run_callbacks();\n      return null;\n    }\n    console.log(\"Bokeh: BokehJS not loaded, scheduling load and callback at\", now());\n    root._bokeh_is_loading = js_urls.length;\n    for (var i = 0; i < js_urls.length; i++) {\n      var url = js_urls[i];\n      var s = document.createElement('script');\n      s.src = url;\n      s.async = false;\n      s.onreadystatechange = s.onload = function() {\n        root._bokeh_is_loading--;\n        if (root._bokeh_is_loading === 0) {\n          console.log(\"Bokeh: all BokehJS libraries loaded\");\n          run_callbacks()\n        }\n      };\n      s.onerror = function() {\n        console.warn(\"failed to load library \" + url);\n      };\n      console.log(\"Bokeh: injecting script tag for BokehJS library: \", url);\n      document.getElementsByTagName(\"head\")[0].appendChild(s);\n    }\n  };var element = document.getElementById(\"46dd9b41-e07e-4ebd-a6e8-d58179e50e86\");\n  if (element == null) {\n    console.log(\"Bokeh: ERROR: autoload.js configured with elementid '46dd9b41-e07e-4ebd-a6e8-d58179e50e86' but no matching script tag was found. \")\n    return false;\n  }\n\n  var js_urls = [\"https://cdn.pydata.org/bokeh/release/bokeh-0.12.10.min.js\", \"https://cdn.pydata.org/bokeh/release/bokeh-widgets-0.12.10.min.js\", \"https://cdn.pydata.org/bokeh/release/bokeh-tables-0.12.10.min.js\", \"https://cdn.pydata.org/bokeh/release/bokeh-gl-0.12.10.min.js\"];\n\n  var inline_js = [\n    function(Bokeh) {\n      Bokeh.set_log_level(\"info\");\n    },\n    \n    function(Bokeh) {\n      \n    },\n    function(Bokeh) {\n      console.log(\"Bokeh: injecting CSS: https://cdn.pydata.org/bokeh/release/bokeh-0.12.10.min.css\");\n      Bokeh.embed.inject_css(\"https://cdn.pydata.org/bokeh/release/bokeh-0.12.10.min.css\");\n      console.log(\"Bokeh: injecting CSS: https://cdn.pydata.org/bokeh/release/bokeh-widgets-0.12.10.min.css\");\n      Bokeh.embed.inject_css(\"https://cdn.pydata.org/bokeh/release/bokeh-widgets-0.12.10.min.css\");\n      console.log(\"Bokeh: injecting CSS: https://cdn.pydata.org/bokeh/release/bokeh-tables-0.12.10.min.css\");\n      Bokeh.embed.inject_css(\"https://cdn.pydata.org/bokeh/release/bokeh-tables-0.12.10.min.css\");\n    }\n  ];\n\n  function run_inline_js() {\n    \n    if ((root.Bokeh !== undefined) || (force === true)) {\n      for (var i = 0; i < inline_js.length; i++) {\n        inline_js[i].call(root, root.Bokeh);\n      }if (force === true) {\n        display_loaded();\n      }} else if (Date.now() < root._bokeh_timeout) {\n      setTimeout(run_inline_js, 100);\n    } else if (!root._bokeh_failed_load) {\n      console.log(\"Bokeh: BokehJS failed to load within specified timeout.\");\n      root._bokeh_failed_load = true;\n    } else if (force !== true) {\n      var cell = $(document.getElementById(\"46dd9b41-e07e-4ebd-a6e8-d58179e50e86\")).parents('.cell').data().cell;\n      cell.output_area.append_execute_result(NB_LOAD_WARNING)\n    }\n\n  }\n\n  if (root._bokeh_is_loading === 0) {\n    console.log(\"Bokeh: BokehJS loaded, going straight to plotting\");\n    run_inline_js();\n  } else {\n    load_libs(js_urls, function() {\n      console.log(\"Bokeh: BokehJS plotting callback run at\", now());\n      run_inline_js();\n    });\n  }\n}(window));"
     },
     "metadata": {},
     "output_type": "display_data"
    }
   ],
   "source": [
    "import pandas as pd, numpy as np\n",
    "import statsmodels\n",
    "from bokeh.plotting import figure, output_notebook, show\n",
    "import sqlite3 as sql\n",
    "output_notebook()"
   ]
  },
  {
   "cell_type": "code",
   "execution_count": 2,
   "metadata": {
    "collapsed": true
   },
   "outputs": [],
   "source": [
    "con = sql.connect('E:/dev/CrpytoManager/CryptoDB.db')"
   ]
  },
  {
   "cell_type": "markdown",
   "metadata": {},
   "source": [
    "Test with Bitcoin first"
   ]
  },
  {
   "cell_type": "code",
   "execution_count": 3,
   "metadata": {
    "collapsed": true
   },
   "outputs": [],
   "source": [
    "btc=pd.read_sql('SELECT * FROM btc_minute',con,index_col='datetime_utc')"
   ]
  },
  {
   "cell_type": "code",
   "execution_count": 4,
   "metadata": {},
   "outputs": [
    {
     "data": {
      "text/html": [
       "<div>\n",
       "<style>\n",
       "    .dataframe thead tr:only-child th {\n",
       "        text-align: right;\n",
       "    }\n",
       "\n",
       "    .dataframe thead th {\n",
       "        text-align: left;\n",
       "    }\n",
       "\n",
       "    .dataframe tbody tr th {\n",
       "        vertical-align: top;\n",
       "    }\n",
       "</style>\n",
       "<table border=\"1\" class=\"dataframe\">\n",
       "  <thead>\n",
       "    <tr style=\"text-align: right;\">\n",
       "      <th></th>\n",
       "      <th>open</th>\n",
       "      <th>high</th>\n",
       "      <th>low</th>\n",
       "      <th>close</th>\n",
       "      <th>volume</th>\n",
       "      <th>volume_amount</th>\n",
       "    </tr>\n",
       "    <tr>\n",
       "      <th>datetime_utc</th>\n",
       "      <th></th>\n",
       "      <th></th>\n",
       "      <th></th>\n",
       "      <th></th>\n",
       "      <th></th>\n",
       "      <th></th>\n",
       "    </tr>\n",
       "  </thead>\n",
       "  <tbody>\n",
       "    <tr>\n",
       "      <th>2017-09-25 20:21:00</th>\n",
       "      <td>4316000.0</td>\n",
       "      <td>4321000.0</td>\n",
       "      <td>4316000.0</td>\n",
       "      <td>4321000.0</td>\n",
       "      <td>0.001888</td>\n",
       "      <td>8151.393</td>\n",
       "    </tr>\n",
       "    <tr>\n",
       "      <th>2017-09-25 20:22:00</th>\n",
       "      <td>4319000.0</td>\n",
       "      <td>4319000.0</td>\n",
       "      <td>4319000.0</td>\n",
       "      <td>4319000.0</td>\n",
       "      <td>0.000805</td>\n",
       "      <td>3476.795</td>\n",
       "    </tr>\n",
       "    <tr>\n",
       "      <th>2017-09-25 20:23:00</th>\n",
       "      <td>4318000.0</td>\n",
       "      <td>4318000.0</td>\n",
       "      <td>4318000.0</td>\n",
       "      <td>4318000.0</td>\n",
       "      <td>0.004647</td>\n",
       "      <td>20065.746</td>\n",
       "    </tr>\n",
       "    <tr>\n",
       "      <th>2017-09-25 20:24:00</th>\n",
       "      <td>4318000.0</td>\n",
       "      <td>4318000.0</td>\n",
       "      <td>4318000.0</td>\n",
       "      <td>4318000.0</td>\n",
       "      <td>0.000346</td>\n",
       "      <td>1494.028</td>\n",
       "    </tr>\n",
       "    <tr>\n",
       "      <th>2017-09-25 20:26:00</th>\n",
       "      <td>4318000.0</td>\n",
       "      <td>4318000.0</td>\n",
       "      <td>4318000.0</td>\n",
       "      <td>4318000.0</td>\n",
       "      <td>0.001326</td>\n",
       "      <td>5725.668</td>\n",
       "    </tr>\n",
       "  </tbody>\n",
       "</table>\n",
       "</div>"
      ],
      "text/plain": [
       "                          open       high        low      close    volume  \\\n",
       "datetime_utc                                                                \n",
       "2017-09-25 20:21:00  4316000.0  4321000.0  4316000.0  4321000.0  0.001888   \n",
       "2017-09-25 20:22:00  4319000.0  4319000.0  4319000.0  4319000.0  0.000805   \n",
       "2017-09-25 20:23:00  4318000.0  4318000.0  4318000.0  4318000.0  0.004647   \n",
       "2017-09-25 20:24:00  4318000.0  4318000.0  4318000.0  4318000.0  0.000346   \n",
       "2017-09-25 20:26:00  4318000.0  4318000.0  4318000.0  4318000.0  0.001326   \n",
       "\n",
       "                     volume_amount  \n",
       "datetime_utc                        \n",
       "2017-09-25 20:21:00       8151.393  \n",
       "2017-09-25 20:22:00       3476.795  \n",
       "2017-09-25 20:23:00      20065.746  \n",
       "2017-09-25 20:24:00       1494.028  \n",
       "2017-09-25 20:26:00       5725.668  "
      ]
     },
     "execution_count": 4,
     "metadata": {},
     "output_type": "execute_result"
    }
   ],
   "source": [
    "btc.head()"
   ]
  },
  {
   "cell_type": "code",
   "execution_count": 5,
   "metadata": {
    "collapsed": true
   },
   "outputs": [],
   "source": [
    "btc.index = pd.to_datetime(btc.index)"
   ]
  },
  {
   "cell_type": "code",
   "execution_count": 6,
   "metadata": {},
   "outputs": [
    {
     "data": {
      "text/html": [
       "<div>\n",
       "<style>\n",
       "    .dataframe thead tr:only-child th {\n",
       "        text-align: right;\n",
       "    }\n",
       "\n",
       "    .dataframe thead th {\n",
       "        text-align: left;\n",
       "    }\n",
       "\n",
       "    .dataframe tbody tr th {\n",
       "        vertical-align: top;\n",
       "    }\n",
       "</style>\n",
       "<table border=\"1\" class=\"dataframe\">\n",
       "  <thead>\n",
       "    <tr style=\"text-align: right;\">\n",
       "      <th></th>\n",
       "      <th>open</th>\n",
       "      <th>high</th>\n",
       "      <th>low</th>\n",
       "      <th>close</th>\n",
       "      <th>volume</th>\n",
       "      <th>volume_amount</th>\n",
       "      <th>price</th>\n",
       "    </tr>\n",
       "    <tr>\n",
       "      <th>datetime_utc</th>\n",
       "      <th></th>\n",
       "      <th></th>\n",
       "      <th></th>\n",
       "      <th></th>\n",
       "      <th></th>\n",
       "      <th></th>\n",
       "      <th></th>\n",
       "    </tr>\n",
       "  </thead>\n",
       "  <tbody>\n",
       "    <tr>\n",
       "      <th>2017-09-25 20:21:00</th>\n",
       "      <td>4316000.0</td>\n",
       "      <td>4321000.0</td>\n",
       "      <td>4316000.0</td>\n",
       "      <td>4321000.0</td>\n",
       "      <td>0.001888</td>\n",
       "      <td>8151.393</td>\n",
       "      <td>4318500.0</td>\n",
       "    </tr>\n",
       "    <tr>\n",
       "      <th>2017-09-25 20:22:00</th>\n",
       "      <td>4319000.0</td>\n",
       "      <td>4319000.0</td>\n",
       "      <td>4319000.0</td>\n",
       "      <td>4319000.0</td>\n",
       "      <td>0.000805</td>\n",
       "      <td>3476.795</td>\n",
       "      <td>4319000.0</td>\n",
       "    </tr>\n",
       "    <tr>\n",
       "      <th>2017-09-25 20:23:00</th>\n",
       "      <td>4318000.0</td>\n",
       "      <td>4318000.0</td>\n",
       "      <td>4318000.0</td>\n",
       "      <td>4318000.0</td>\n",
       "      <td>0.004647</td>\n",
       "      <td>20065.746</td>\n",
       "      <td>4318000.0</td>\n",
       "    </tr>\n",
       "    <tr>\n",
       "      <th>2017-09-25 20:24:00</th>\n",
       "      <td>4318000.0</td>\n",
       "      <td>4318000.0</td>\n",
       "      <td>4318000.0</td>\n",
       "      <td>4318000.0</td>\n",
       "      <td>0.000346</td>\n",
       "      <td>1494.028</td>\n",
       "      <td>4318000.0</td>\n",
       "    </tr>\n",
       "    <tr>\n",
       "      <th>2017-09-25 20:26:00</th>\n",
       "      <td>4318000.0</td>\n",
       "      <td>4318000.0</td>\n",
       "      <td>4318000.0</td>\n",
       "      <td>4318000.0</td>\n",
       "      <td>0.001326</td>\n",
       "      <td>5725.668</td>\n",
       "      <td>4318000.0</td>\n",
       "    </tr>\n",
       "  </tbody>\n",
       "</table>\n",
       "</div>"
      ],
      "text/plain": [
       "                          open       high        low      close    volume  \\\n",
       "datetime_utc                                                                \n",
       "2017-09-25 20:21:00  4316000.0  4321000.0  4316000.0  4321000.0  0.001888   \n",
       "2017-09-25 20:22:00  4319000.0  4319000.0  4319000.0  4319000.0  0.000805   \n",
       "2017-09-25 20:23:00  4318000.0  4318000.0  4318000.0  4318000.0  0.004647   \n",
       "2017-09-25 20:24:00  4318000.0  4318000.0  4318000.0  4318000.0  0.000346   \n",
       "2017-09-25 20:26:00  4318000.0  4318000.0  4318000.0  4318000.0  0.001326   \n",
       "\n",
       "                     volume_amount      price  \n",
       "datetime_utc                                   \n",
       "2017-09-25 20:21:00       8151.393  4318500.0  \n",
       "2017-09-25 20:22:00       3476.795  4319000.0  \n",
       "2017-09-25 20:23:00      20065.746  4318000.0  \n",
       "2017-09-25 20:24:00       1494.028  4318000.0  \n",
       "2017-09-25 20:26:00       5725.668  4318000.0  "
      ]
     },
     "execution_count": 6,
     "metadata": {},
     "output_type": "execute_result"
    }
   ],
   "source": [
    "btc['price'] = btc[['open', 'high', 'low', 'close']].mean(axis=1)\n",
    "btc.head()"
   ]
  },
  {
   "cell_type": "code",
   "execution_count": 7,
   "metadata": {},
   "outputs": [
    {
     "data": {
      "text/html": [
       "<div>\n",
       "<style>\n",
       "    .dataframe thead tr:only-child th {\n",
       "        text-align: right;\n",
       "    }\n",
       "\n",
       "    .dataframe thead th {\n",
       "        text-align: left;\n",
       "    }\n",
       "\n",
       "    .dataframe tbody tr th {\n",
       "        vertical-align: top;\n",
       "    }\n",
       "</style>\n",
       "<table border=\"1\" class=\"dataframe\">\n",
       "  <thead>\n",
       "    <tr style=\"text-align: right;\">\n",
       "      <th></th>\n",
       "      <th>open</th>\n",
       "      <th>high</th>\n",
       "      <th>low</th>\n",
       "      <th>close</th>\n",
       "      <th>volume</th>\n",
       "      <th>volume_amount</th>\n",
       "      <th>price</th>\n",
       "      <th>log_diff</th>\n",
       "    </tr>\n",
       "    <tr>\n",
       "      <th>datetime_utc</th>\n",
       "      <th></th>\n",
       "      <th></th>\n",
       "      <th></th>\n",
       "      <th></th>\n",
       "      <th></th>\n",
       "      <th></th>\n",
       "      <th></th>\n",
       "      <th></th>\n",
       "    </tr>\n",
       "  </thead>\n",
       "  <tbody>\n",
       "    <tr>\n",
       "      <th>2017-09-25 20:21:00</th>\n",
       "      <td>4316000.0</td>\n",
       "      <td>4321000.0</td>\n",
       "      <td>4316000.0</td>\n",
       "      <td>4321000.0</td>\n",
       "      <td>0.001888</td>\n",
       "      <td>8151.393</td>\n",
       "      <td>4318500.0</td>\n",
       "      <td>NaN</td>\n",
       "    </tr>\n",
       "    <tr>\n",
       "      <th>2017-09-25 20:22:00</th>\n",
       "      <td>4319000.0</td>\n",
       "      <td>4319000.0</td>\n",
       "      <td>4319000.0</td>\n",
       "      <td>4319000.0</td>\n",
       "      <td>0.000805</td>\n",
       "      <td>3476.795</td>\n",
       "      <td>4319000.0</td>\n",
       "      <td>0.000116</td>\n",
       "    </tr>\n",
       "    <tr>\n",
       "      <th>2017-09-25 20:23:00</th>\n",
       "      <td>4318000.0</td>\n",
       "      <td>4318000.0</td>\n",
       "      <td>4318000.0</td>\n",
       "      <td>4318000.0</td>\n",
       "      <td>0.004647</td>\n",
       "      <td>20065.746</td>\n",
       "      <td>4318000.0</td>\n",
       "      <td>-0.000232</td>\n",
       "    </tr>\n",
       "    <tr>\n",
       "      <th>2017-09-25 20:24:00</th>\n",
       "      <td>4318000.0</td>\n",
       "      <td>4318000.0</td>\n",
       "      <td>4318000.0</td>\n",
       "      <td>4318000.0</td>\n",
       "      <td>0.000346</td>\n",
       "      <td>1494.028</td>\n",
       "      <td>4318000.0</td>\n",
       "      <td>0.000000</td>\n",
       "    </tr>\n",
       "    <tr>\n",
       "      <th>2017-09-25 20:26:00</th>\n",
       "      <td>4318000.0</td>\n",
       "      <td>4318000.0</td>\n",
       "      <td>4318000.0</td>\n",
       "      <td>4318000.0</td>\n",
       "      <td>0.001326</td>\n",
       "      <td>5725.668</td>\n",
       "      <td>4318000.0</td>\n",
       "      <td>0.000000</td>\n",
       "    </tr>\n",
       "  </tbody>\n",
       "</table>\n",
       "</div>"
      ],
      "text/plain": [
       "                          open       high        low      close    volume  \\\n",
       "datetime_utc                                                                \n",
       "2017-09-25 20:21:00  4316000.0  4321000.0  4316000.0  4321000.0  0.001888   \n",
       "2017-09-25 20:22:00  4319000.0  4319000.0  4319000.0  4319000.0  0.000805   \n",
       "2017-09-25 20:23:00  4318000.0  4318000.0  4318000.0  4318000.0  0.004647   \n",
       "2017-09-25 20:24:00  4318000.0  4318000.0  4318000.0  4318000.0  0.000346   \n",
       "2017-09-25 20:26:00  4318000.0  4318000.0  4318000.0  4318000.0  0.001326   \n",
       "\n",
       "                     volume_amount      price  log_diff  \n",
       "datetime_utc                                             \n",
       "2017-09-25 20:21:00       8151.393  4318500.0       NaN  \n",
       "2017-09-25 20:22:00       3476.795  4319000.0  0.000116  \n",
       "2017-09-25 20:23:00      20065.746  4318000.0 -0.000232  \n",
       "2017-09-25 20:24:00       1494.028  4318000.0  0.000000  \n",
       "2017-09-25 20:26:00       5725.668  4318000.0  0.000000  "
      ]
     },
     "execution_count": 7,
     "metadata": {},
     "output_type": "execute_result"
    }
   ],
   "source": [
    "btc['log_diff']=np.log(btc['price']).diff()\n",
    "btc.head()"
   ]
  },
  {
   "cell_type": "code",
   "execution_count": 14,
   "metadata": {
    "collapsed": true
   },
   "outputs": [],
   "source": [
    "btc = btc.loc['2017-09-27': ' 2018-04-26']"
   ]
  },
  {
   "cell_type": "code",
   "execution_count": 15,
   "metadata": {
    "scrolled": false
   },
   "outputs": [
    {
     "data": {
      "text/html": [
       "<div>\n",
       "<style>\n",
       "    .dataframe thead tr:only-child th {\n",
       "        text-align: right;\n",
       "    }\n",
       "\n",
       "    .dataframe thead th {\n",
       "        text-align: left;\n",
       "    }\n",
       "\n",
       "    .dataframe tbody tr th {\n",
       "        vertical-align: top;\n",
       "    }\n",
       "</style>\n",
       "<table border=\"1\" class=\"dataframe\">\n",
       "  <thead>\n",
       "    <tr style=\"text-align: right;\">\n",
       "      <th></th>\n",
       "      <th>open</th>\n",
       "      <th>high</th>\n",
       "      <th>low</th>\n",
       "      <th>close</th>\n",
       "      <th>volume</th>\n",
       "      <th>volume_amount</th>\n",
       "      <th>price</th>\n",
       "      <th>log_diff</th>\n",
       "    </tr>\n",
       "    <tr>\n",
       "      <th>datetime_utc</th>\n",
       "      <th></th>\n",
       "      <th></th>\n",
       "      <th></th>\n",
       "      <th></th>\n",
       "      <th></th>\n",
       "      <th></th>\n",
       "      <th></th>\n",
       "      <th></th>\n",
       "    </tr>\n",
       "  </thead>\n",
       "  <tbody>\n",
       "    <tr>\n",
       "      <th>2017-09-27 00:00:00</th>\n",
       "      <td>4322000.0</td>\n",
       "      <td>4322000.0</td>\n",
       "      <td>4322000.0</td>\n",
       "      <td>4322000.0</td>\n",
       "      <td>0.002642</td>\n",
       "      <td>11418.724</td>\n",
       "      <td>4322000.0</td>\n",
       "      <td>0.000231</td>\n",
       "    </tr>\n",
       "    <tr>\n",
       "      <th>2017-09-27 00:01:00</th>\n",
       "      <td>4328000.0</td>\n",
       "      <td>4328000.0</td>\n",
       "      <td>4328000.0</td>\n",
       "      <td>4328000.0</td>\n",
       "      <td>0.003083</td>\n",
       "      <td>13343.224</td>\n",
       "      <td>4328000.0</td>\n",
       "      <td>0.001387</td>\n",
       "    </tr>\n",
       "    <tr>\n",
       "      <th>2017-09-27 00:02:00</th>\n",
       "      <td>4323000.0</td>\n",
       "      <td>4323000.0</td>\n",
       "      <td>4323000.0</td>\n",
       "      <td>4323000.0</td>\n",
       "      <td>0.002071</td>\n",
       "      <td>8952.933</td>\n",
       "      <td>4323000.0</td>\n",
       "      <td>-0.001156</td>\n",
       "    </tr>\n",
       "    <tr>\n",
       "      <th>2017-09-27 00:03:00</th>\n",
       "      <td>4323000.0</td>\n",
       "      <td>4323000.0</td>\n",
       "      <td>4323000.0</td>\n",
       "      <td>4323000.0</td>\n",
       "      <td>0.000485</td>\n",
       "      <td>2096.655</td>\n",
       "      <td>4323000.0</td>\n",
       "      <td>0.000000</td>\n",
       "    </tr>\n",
       "    <tr>\n",
       "      <th>2017-09-27 00:04:00</th>\n",
       "      <td>4320000.0</td>\n",
       "      <td>4323000.0</td>\n",
       "      <td>4318000.0</td>\n",
       "      <td>4323000.0</td>\n",
       "      <td>0.007036</td>\n",
       "      <td>30398.340</td>\n",
       "      <td>4321000.0</td>\n",
       "      <td>-0.000463</td>\n",
       "    </tr>\n",
       "  </tbody>\n",
       "</table>\n",
       "</div>"
      ],
      "text/plain": [
       "                          open       high        low      close    volume  \\\n",
       "datetime_utc                                                                \n",
       "2017-09-27 00:00:00  4322000.0  4322000.0  4322000.0  4322000.0  0.002642   \n",
       "2017-09-27 00:01:00  4328000.0  4328000.0  4328000.0  4328000.0  0.003083   \n",
       "2017-09-27 00:02:00  4323000.0  4323000.0  4323000.0  4323000.0  0.002071   \n",
       "2017-09-27 00:03:00  4323000.0  4323000.0  4323000.0  4323000.0  0.000485   \n",
       "2017-09-27 00:04:00  4320000.0  4323000.0  4318000.0  4323000.0  0.007036   \n",
       "\n",
       "                     volume_amount      price  log_diff  \n",
       "datetime_utc                                             \n",
       "2017-09-27 00:00:00      11418.724  4322000.0  0.000231  \n",
       "2017-09-27 00:01:00      13343.224  4328000.0  0.001387  \n",
       "2017-09-27 00:02:00       8952.933  4323000.0 -0.001156  \n",
       "2017-09-27 00:03:00       2096.655  4323000.0  0.000000  \n",
       "2017-09-27 00:04:00      30398.340  4321000.0 -0.000463  "
      ]
     },
     "execution_count": 15,
     "metadata": {},
     "output_type": "execute_result"
    }
   ],
   "source": [
    "btc.head()"
   ]
  },
  {
   "cell_type": "code",
   "execution_count": 16,
   "metadata": {
    "scrolled": true
   },
   "outputs": [
    {
     "data": {
      "text/html": [
       "<div>\n",
       "<style>\n",
       "    .dataframe thead tr:only-child th {\n",
       "        text-align: right;\n",
       "    }\n",
       "\n",
       "    .dataframe thead th {\n",
       "        text-align: left;\n",
       "    }\n",
       "\n",
       "    .dataframe tbody tr th {\n",
       "        vertical-align: top;\n",
       "    }\n",
       "</style>\n",
       "<table border=\"1\" class=\"dataframe\">\n",
       "  <thead>\n",
       "    <tr style=\"text-align: right;\">\n",
       "      <th></th>\n",
       "      <th>open</th>\n",
       "      <th>high</th>\n",
       "      <th>low</th>\n",
       "      <th>close</th>\n",
       "      <th>volume</th>\n",
       "      <th>volume_amount</th>\n",
       "      <th>price</th>\n",
       "      <th>log_diff</th>\n",
       "    </tr>\n",
       "  </thead>\n",
       "  <tbody>\n",
       "    <tr>\n",
       "      <th>count</th>\n",
       "      <td>2.954900e+05</td>\n",
       "      <td>2.954900e+05</td>\n",
       "      <td>2.954900e+05</td>\n",
       "      <td>2.954900e+05</td>\n",
       "      <td>295490.000000</td>\n",
       "      <td>2.954900e+05</td>\n",
       "      <td>2.954900e+05</td>\n",
       "      <td>295490.000000</td>\n",
       "    </tr>\n",
       "    <tr>\n",
       "      <th>mean</th>\n",
       "      <td>1.164352e+07</td>\n",
       "      <td>1.165814e+07</td>\n",
       "      <td>1.162884e+07</td>\n",
       "      <td>1.164356e+07</td>\n",
       "      <td>16.387026</td>\n",
       "      <td>2.398600e+08</td>\n",
       "      <td>1.164351e+07</td>\n",
       "      <td>0.000003</td>\n",
       "    </tr>\n",
       "    <tr>\n",
       "      <th>std</th>\n",
       "      <td>5.109608e+06</td>\n",
       "      <td>5.120270e+06</td>\n",
       "      <td>5.099073e+06</td>\n",
       "      <td>5.109652e+06</td>\n",
       "      <td>21.895205</td>\n",
       "      <td>3.782617e+08</td>\n",
       "      <td>5.109613e+06</td>\n",
       "      <td>0.002223</td>\n",
       "    </tr>\n",
       "    <tr>\n",
       "      <th>min</th>\n",
       "      <td>4.318000e+06</td>\n",
       "      <td>4.318000e+06</td>\n",
       "      <td>4.318000e+06</td>\n",
       "      <td>4.318000e+06</td>\n",
       "      <td>0.000002</td>\n",
       "      <td>1.014200e+01</td>\n",
       "      <td>4.318000e+06</td>\n",
       "      <td>-0.107021</td>\n",
       "    </tr>\n",
       "    <tr>\n",
       "      <th>25%</th>\n",
       "      <td>8.167000e+06</td>\n",
       "      <td>8.174000e+06</td>\n",
       "      <td>8.158000e+06</td>\n",
       "      <td>8.167000e+06</td>\n",
       "      <td>2.885368</td>\n",
       "      <td>2.648089e+07</td>\n",
       "      <td>8.165750e+06</td>\n",
       "      <td>-0.000579</td>\n",
       "    </tr>\n",
       "    <tr>\n",
       "      <th>50%</th>\n",
       "      <td>9.813000e+06</td>\n",
       "      <td>9.822000e+06</td>\n",
       "      <td>9.802000e+06</td>\n",
       "      <td>9.812000e+06</td>\n",
       "      <td>9.766907</td>\n",
       "      <td>1.041614e+08</td>\n",
       "      <td>9.812625e+06</td>\n",
       "      <td>0.000000</td>\n",
       "    </tr>\n",
       "    <tr>\n",
       "      <th>75%</th>\n",
       "      <td>1.331100e+07</td>\n",
       "      <td>1.332600e+07</td>\n",
       "      <td>1.329900e+07</td>\n",
       "      <td>1.331100e+07</td>\n",
       "      <td>21.825489</td>\n",
       "      <td>2.970144e+08</td>\n",
       "      <td>1.331175e+07</td>\n",
       "      <td>0.000600</td>\n",
       "    </tr>\n",
       "    <tr>\n",
       "      <th>max</th>\n",
       "      <td>2.887900e+07</td>\n",
       "      <td>2.888500e+07</td>\n",
       "      <td>2.878400e+07</td>\n",
       "      <td>2.887900e+07</td>\n",
       "      <td>534.966763</td>\n",
       "      <td>8.608684e+09</td>\n",
       "      <td>2.883250e+07</td>\n",
       "      <td>0.100611</td>\n",
       "    </tr>\n",
       "  </tbody>\n",
       "</table>\n",
       "</div>"
      ],
      "text/plain": [
       "               open          high           low         close         volume  \\\n",
       "count  2.954900e+05  2.954900e+05  2.954900e+05  2.954900e+05  295490.000000   \n",
       "mean   1.164352e+07  1.165814e+07  1.162884e+07  1.164356e+07      16.387026   \n",
       "std    5.109608e+06  5.120270e+06  5.099073e+06  5.109652e+06      21.895205   \n",
       "min    4.318000e+06  4.318000e+06  4.318000e+06  4.318000e+06       0.000002   \n",
       "25%    8.167000e+06  8.174000e+06  8.158000e+06  8.167000e+06       2.885368   \n",
       "50%    9.813000e+06  9.822000e+06  9.802000e+06  9.812000e+06       9.766907   \n",
       "75%    1.331100e+07  1.332600e+07  1.329900e+07  1.331100e+07      21.825489   \n",
       "max    2.887900e+07  2.888500e+07  2.878400e+07  2.887900e+07     534.966763   \n",
       "\n",
       "       volume_amount         price       log_diff  \n",
       "count   2.954900e+05  2.954900e+05  295490.000000  \n",
       "mean    2.398600e+08  1.164351e+07       0.000003  \n",
       "std     3.782617e+08  5.109613e+06       0.002223  \n",
       "min     1.014200e+01  4.318000e+06      -0.107021  \n",
       "25%     2.648089e+07  8.165750e+06      -0.000579  \n",
       "50%     1.041614e+08  9.812625e+06       0.000000  \n",
       "75%     2.970144e+08  1.331175e+07       0.000600  \n",
       "max     8.608684e+09  2.883250e+07       0.100611  "
      ]
     },
     "execution_count": 16,
     "metadata": {},
     "output_type": "execute_result"
    }
   ],
   "source": [
    "btc.describe()"
   ]
  },
  {
   "cell_type": "markdown",
   "metadata": {},
   "source": [
    "### Visualization"
   ]
  },
  {
   "cell_type": "code",
   "execution_count": 27,
   "metadata": {},
   "outputs": [],
   "source": [
    "daily_btc = btc.price.groupby(by=pd.Grouper(freq='d')).mean()"
   ]
  },
  {
   "cell_type": "code",
   "execution_count": 28,
   "metadata": {},
   "outputs": [
    {
     "data": {
      "text/html": [
       "\n",
       "<div class=\"bk-root\">\n",
       "    <div class=\"bk-plotdiv\" id=\"21dfce72-490a-4ffb-8b45-718280533b8e\"></div>\n",
       "</div>"
      ]
     },
     "metadata": {},
     "output_type": "display_data"
    },
    {
     "data": {
      "application/javascript": [
       "(function(root) {\n",
       "  function embed_document(root) {\n",
       "    var docs_json = {\"586a15cc-0be2-4a47-ab66-2bd58f79ddd1\":{\"roots\":{\"references\":[{\"attributes\":{},\"id\":\"2f669d14-ba77-45dc-b71e-312dea5f7b59\",\"type\":\"PanTool\"},{\"attributes\":{},\"id\":\"a9ccf953-7e6b-4e3b-abd0-baff483c9c46\",\"type\":\"DatetimeTickFormatter\"},{\"attributes\":{\"overlay\":{\"id\":\"7c436595-4080-46e8-97f1-041ee1b6d97d\",\"type\":\"BoxAnnotation\"}},\"id\":\"cfa37910-f06e-44e0-bc3c-ad757d7c5231\",\"type\":\"BoxZoomTool\"},{\"attributes\":{\"callback\":null},\"id\":\"a63be8bc-ec49-4ffe-8bfb-750d75bbf674\",\"type\":\"DataRange1d\"},{\"attributes\":{\"bottom_units\":\"screen\",\"fill_alpha\":{\"value\":0.5},\"fill_color\":{\"value\":\"lightgrey\"},\"left_units\":\"screen\",\"level\":\"overlay\",\"line_alpha\":{\"value\":1.0},\"line_color\":{\"value\":\"black\"},\"line_dash\":[4,4],\"line_width\":{\"value\":2},\"plot\":null,\"render_mode\":\"css\",\"right_units\":\"screen\",\"top_units\":\"screen\"},\"id\":\"7c436595-4080-46e8-97f1-041ee1b6d97d\",\"type\":\"BoxAnnotation\"},{\"attributes\":{\"source\":{\"id\":\"64bc445d-f881-4495-917a-e31984a58207\",\"type\":\"ColumnDataSource\"}},\"id\":\"54a907de-42e6-4e9f-86db-f9775ae49906\",\"type\":\"CDSView\"},{\"attributes\":{},\"id\":\"e5ce679d-1988-4789-87d6-681103f60083\",\"type\":\"BasicTickFormatter\"},{\"attributes\":{\"months\":[0,2,4,6,8,10]},\"id\":\"e4e9c774-4032-4d18-9bd6-22ae99c9ccd9\",\"type\":\"MonthsTicker\"},{\"attributes\":{\"months\":[0,4,8]},\"id\":\"70c51d1e-2dec-483a-a072-1ce50aef08ee\",\"type\":\"MonthsTicker\"},{\"attributes\":{\"label\":{\"value\":\"Bitcoin\"},\"renderers\":[{\"id\":\"40d92e42-6ae4-4fef-8046-a9cddab447a3\",\"type\":\"GlyphRenderer\"}]},\"id\":\"7ddacc64-34bb-48ea-b9d4-72ca264cbd01\",\"type\":\"LegendItem\"},{\"attributes\":{\"days\":[1,15]},\"id\":\"f7f52a91-5485-4223-88c3-f08ac18b32ea\",\"type\":\"DaysTicker\"},{\"attributes\":{\"line_color\":{\"value\":\"blue\"},\"x\":{\"field\":\"x\"},\"y\":{\"field\":\"y\"}},\"id\":\"f2a3e4b9-0481-406b-88f5-1b821edebbb9\",\"type\":\"Line\"},{\"attributes\":{\"months\":[0,1,2,3,4,5,6,7,8,9,10,11]},\"id\":\"674b7143-b73d-48f7-a3a6-464f0dd28982\",\"type\":\"MonthsTicker\"},{\"attributes\":{},\"id\":\"6a2107c0-beaa-4d63-b0e0-ecf4dba47790\",\"type\":\"LinearScale\"},{\"attributes\":{\"base\":24,\"mantissas\":[1,2,4,6,8,12],\"max_interval\":43200000.0,\"min_interval\":3600000.0,\"num_minor_ticks\":0},\"id\":\"119a8f46-cbc8-46b9-89f1-03dfac6abc29\",\"type\":\"AdaptiveTicker\"},{\"attributes\":{\"mantissas\":[1,2,5],\"max_interval\":500.0,\"num_minor_ticks\":0},\"id\":\"58441b51-371c-479b-ab36-1aad0d281328\",\"type\":\"AdaptiveTicker\"},{\"attributes\":{\"days\":[1,4,7,10,13,16,19,22,25,28]},\"id\":\"335ac48d-15b6-47a1-8fdc-f645c351fa8f\",\"type\":\"DaysTicker\"},{\"attributes\":{\"months\":[0,6]},\"id\":\"f2e23750-5df9-45dc-b865-cfe30501c524\",\"type\":\"MonthsTicker\"},{\"attributes\":{\"plot\":{\"id\":\"3026cfa5-ebd5-4f61-baa7-d791eda5571d\",\"subtype\":\"Figure\",\"type\":\"Plot\"},\"ticker\":{\"id\":\"53e627f3-d15c-4ef4-8263-8b26c0657181\",\"type\":\"DatetimeTicker\"}},\"id\":\"4de0f235-c9bd-4739-b61c-10b366d5a19e\",\"type\":\"Grid\"},{\"attributes\":{},\"id\":\"69eb981d-6592-4a78-bbf7-2a9659cd7a6e\",\"type\":\"YearsTicker\"},{\"attributes\":{\"items\":[{\"id\":\"7ddacc64-34bb-48ea-b9d4-72ca264cbd01\",\"type\":\"LegendItem\"}],\"plot\":{\"id\":\"3026cfa5-ebd5-4f61-baa7-d791eda5571d\",\"subtype\":\"Figure\",\"type\":\"Plot\"}},\"id\":\"b580d7d8-0fd0-4527-a4f3-1eb78158839b\",\"type\":\"Legend\"},{\"attributes\":{},\"id\":\"ef20afac-fd8d-43de-b3dc-b803249b07ca\",\"type\":\"LinearScale\"},{\"attributes\":{\"axis_label\":\"date\",\"formatter\":{\"id\":\"a9ccf953-7e6b-4e3b-abd0-baff483c9c46\",\"type\":\"DatetimeTickFormatter\"},\"plot\":{\"id\":\"3026cfa5-ebd5-4f61-baa7-d791eda5571d\",\"subtype\":\"Figure\",\"type\":\"Plot\"},\"ticker\":{\"id\":\"53e627f3-d15c-4ef4-8263-8b26c0657181\",\"type\":\"DatetimeTicker\"}},\"id\":\"b8c2cc20-e0c3-427b-b085-4f2936d7771a\",\"type\":\"DatetimeAxis\"},{\"attributes\":{\"callback\":null},\"id\":\"b56a6b1d-6a14-4412-a16d-ac62f111e902\",\"type\":\"DataRange1d\"},{\"attributes\":{\"num_minor_ticks\":5,\"tickers\":[{\"id\":\"58441b51-371c-479b-ab36-1aad0d281328\",\"type\":\"AdaptiveTicker\"},{\"id\":\"83fe0391-dc46-416c-b374-71231644f4bb\",\"type\":\"AdaptiveTicker\"},{\"id\":\"119a8f46-cbc8-46b9-89f1-03dfac6abc29\",\"type\":\"AdaptiveTicker\"},{\"id\":\"5bb1b50a-63cc-4037-a2e4-b602caf693ff\",\"type\":\"DaysTicker\"},{\"id\":\"335ac48d-15b6-47a1-8fdc-f645c351fa8f\",\"type\":\"DaysTicker\"},{\"id\":\"51f1a4cd-5984-45da-98ef-c0bd32f2cbdb\",\"type\":\"DaysTicker\"},{\"id\":\"f7f52a91-5485-4223-88c3-f08ac18b32ea\",\"type\":\"DaysTicker\"},{\"id\":\"674b7143-b73d-48f7-a3a6-464f0dd28982\",\"type\":\"MonthsTicker\"},{\"id\":\"e4e9c774-4032-4d18-9bd6-22ae99c9ccd9\",\"type\":\"MonthsTicker\"},{\"id\":\"70c51d1e-2dec-483a-a072-1ce50aef08ee\",\"type\":\"MonthsTicker\"},{\"id\":\"f2e23750-5df9-45dc-b865-cfe30501c524\",\"type\":\"MonthsTicker\"},{\"id\":\"69eb981d-6592-4a78-bbf7-2a9659cd7a6e\",\"type\":\"YearsTicker\"}]},\"id\":\"53e627f3-d15c-4ef4-8263-8b26c0657181\",\"type\":\"DatetimeTicker\"},{\"attributes\":{},\"id\":\"36e795cc-9fe2-45f7-9382-4cab8681600f\",\"type\":\"SaveTool\"},{\"attributes\":{\"line_alpha\":{\"value\":0.1},\"line_color\":{\"value\":\"#1f77b4\"},\"x\":{\"field\":\"x\"},\"y\":{\"field\":\"y\"}},\"id\":\"f1e57249-f6ff-4734-b69e-2174679ea19f\",\"type\":\"Line\"},{\"attributes\":{},\"id\":\"5a01da12-e58d-4a7d-aabb-1fd2c250e06f\",\"type\":\"ResetTool\"},{\"attributes\":{\"active_drag\":\"auto\",\"active_inspect\":\"auto\",\"active_scroll\":\"auto\",\"active_tap\":\"auto\",\"tools\":[{\"id\":\"2f669d14-ba77-45dc-b71e-312dea5f7b59\",\"type\":\"PanTool\"},{\"id\":\"cfa37910-f06e-44e0-bc3c-ad757d7c5231\",\"type\":\"BoxZoomTool\"},{\"id\":\"5a01da12-e58d-4a7d-aabb-1fd2c250e06f\",\"type\":\"ResetTool\"},{\"id\":\"36e795cc-9fe2-45f7-9382-4cab8681600f\",\"type\":\"SaveTool\"}]},\"id\":\"1b29b3fd-34a4-4481-84df-53fb6681b8f9\",\"type\":\"Toolbar\"},{\"attributes\":{\"callback\":null,\"column_names\":[\"x\",\"y\"],\"data\":{\"x\":{\"__ndarray__\":\"AAAAIQrsdUIAAMCGXOx1QgAAgOyu7HVCAABAUgHtdUIAAAC4U+11QgAAwB2m7XVCAACAg/jtdUIAAEDpSu51QgAAAE+d7nVCAADAtO/udUIAAIAaQu91QgAAQICU73VCAAAA5ubvdUIAAMBLOfB1QgAAgLGL8HVCAABAF97wdUIAAAB9MPF1QgAAwOKC8XVCAACASNXxdUIAAECuJ/J1QgAAABR68nVCAADAeczydUIAAIDfHvN1QgAAQEVx83VCAAAAq8PzdUIAAMAQFvR1QgAAgHZo9HVCAABA3Lr0dUIAAABCDfV1QgAAwKdf9XVCAACADbL1dUIAAEBzBPZ1QgAAANlW9nVCAADAPqn2dUIAAICk+/Z1QgAAQApO93VCAAAAcKD3dUIAAMDV8vd1QgAAgDtF+HVCAABAoZf4dUIAAAAH6vh1QgAAwGw8+XVCAACA0o75dUIAAEA44fl1QgAAAJ4z+nVCAADAA4b6dUIAAIBp2Pp1QgAAQM8q+3VCAAAANX37dUIAAMCaz/t1QgAAgAAi/HVCAABAZnT8dUIAAADMxvx1QgAAwDEZ/XVCAACAl2v9dUIAAED9vf11QgAAAGMQ/nVCAADAyGL+dUIAAIAutf51QgAAQJQH/3VCAAAA+ln/dUIAAMBfrP91QgAAgMX+/3VCAABAK1EAdkIAAACRowB2QgAAwPb1AHZCAACAXEgBdkIAAEDCmgF2QgAAACjtAXZCAADAjT8CdkIAAIDzkQJ2QgAAQFnkAnZCAAAAvzYDdkIAAMAkiQN2QgAAgIrbA3ZCAABA8C0EdkIAAABWgAR2QgAAwLvSBHZCAACAISUFdkIAAECHdwV2QgAAAO3JBXZCAADAUhwGdkIAAIC4bgZ2QgAAQB7BBnZCAAAAhBMHdkIAAMDpZQd2QgAAgE+4B3ZCAABAtQoIdkIAAAAbXQh2QgAAwICvCHZCAACA5gEJdkIAAEBMVAl2QgAAALKmCXZCAADAF/kJdkIAAIB9Swp2QgAAQOOdCnZCAAAASfAKdkIAAMCuQgt2QgAAgBSVC3ZCAABAeucLdkIAAADgOQx2QgAAwEWMDHZCAACAq94MdkIAAEARMQ12QgAAAHeDDXZCAADA3NUNdkIAAIBCKA52QgAAQKh6DnZCAAAADs0OdkIAAMBzHw92QgAAgNlxD3ZCAABAP8QPdkIAAAClFhB2QgAAwAppEHZCAACAcLsQdkIAAEDWDRF2QgAAADxgEXZCAADAobIRdkIAAIAHBRJ2QgAAQG1XEnZCAAAA06kSdkIAAMA4/BJ2QgAAgJ5OE3ZCAABABKETdkIAAABq8xN2QgAAwM9FFHZCAACANZgUdkIAAECb6hR2QgAAAAE9FXZCAADAZo8VdkIAAIDM4RV2QgAAQDI0FnZCAAAAmIYWdkIAAMD92BZ2QgAAgGMrF3ZCAABAyX0XdkIAAAAv0Bd2QgAAwJQiGHZCAACA+nQYdkIAAEBgxxh2QgAAAMYZGXZCAADAK2wZdkIAAICRvhl2QgAAQPcQGnZCAAAAXWMadkIAAMDCtRp2QgAAgCgIG3ZCAABAjlobdkIAAAD0rBt2QgAAwFn/G3ZCAACAv1EcdkIAAEAlpBx2QgAAAIv2HHZCAADA8EgddkIAAIBWmx12QgAAQLztHXZCAAAAIkAedkIAAMCHkh52QgAAgO3kHnZCAABAUzcfdkIAAAC5iR92QgAAwB7cH3ZCAACAhC4gdkIAAEDqgCB2QgAAAFDTIHZCAADAtSUhdkIAAIAbeCF2QgAAQIHKIXZCAAAA5xwidkIAAMBMbyJ2QgAAgLLBInZCAABAGBQjdkIAAAB+ZiN2QgAAwOO4I3ZCAACASQskdkIAAECvXSR2QgAAABWwJHZCAADAegIldkIAAIDgVCV2QgAAQEanJXZCAAAArPkldkIAAMARTCZ2QgAAgHeeJnZCAABA3fAmdkIAAABDQyd2QgAAwKiVJ3ZCAACADugndkIAAEB0Oih2QgAAANqMKHZCAADAP98odkIAAIClMSl2QgAAQAuEKXZCAAAAcdYpdkIAAMDWKCp2QgAAgDx7KnZCAABAos0qdkIAAAAIICt2QgAAwG1yK3ZCAACA08QrdkIAAEA5Fyx2QgAAAJ9pLHZCAADABLwsdkIAAIBqDi12QgAAQNBgLXZCAAAANrMtdkIAAMCbBS52QgAAgAFYLnZCAABAZ6oudkIAAADN/C52QgAAwDJPL3ZCAACAmKEvdkIAAED+8y92Qg==\",\"dtype\":\"float64\",\"shape\":[212]},\"y\":{\"__ndarray__\":\"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\",\"dtype\":\"float64\",\"shape\":[212]}}},\"id\":\"64bc445d-f881-4495-917a-e31984a58207\",\"type\":\"ColumnDataSource\"},{\"attributes\":{\"plot\":null,\"text\":\"BTC PRICE\"},\"id\":\"5488d913-f22d-456a-9719-a0c88182522f\",\"type\":\"Title\"},{\"attributes\":{\"days\":[1,8,15,22]},\"id\":\"51f1a4cd-5984-45da-98ef-c0bd32f2cbdb\",\"type\":\"DaysTicker\"},{\"attributes\":{\"axis_label\":\"Price\",\"formatter\":{\"id\":\"e5ce679d-1988-4789-87d6-681103f60083\",\"type\":\"BasicTickFormatter\"},\"plot\":{\"id\":\"3026cfa5-ebd5-4f61-baa7-d791eda5571d\",\"subtype\":\"Figure\",\"type\":\"Plot\"},\"ticker\":{\"id\":\"0c5b2007-c014-4bcb-9a00-c27f3fb922f0\",\"type\":\"BasicTicker\"}},\"id\":\"b1e4ceaf-b441-40c7-8042-a47ff2e0f0c5\",\"type\":\"LinearAxis\"},{\"attributes\":{\"below\":[{\"id\":\"b8c2cc20-e0c3-427b-b085-4f2936d7771a\",\"type\":\"DatetimeAxis\"}],\"left\":[{\"id\":\"b1e4ceaf-b441-40c7-8042-a47ff2e0f0c5\",\"type\":\"LinearAxis\"}],\"plot_width\":800,\"renderers\":[{\"id\":\"b8c2cc20-e0c3-427b-b085-4f2936d7771a\",\"type\":\"DatetimeAxis\"},{\"id\":\"4de0f235-c9bd-4739-b61c-10b366d5a19e\",\"type\":\"Grid\"},{\"id\":\"b1e4ceaf-b441-40c7-8042-a47ff2e0f0c5\",\"type\":\"LinearAxis\"},{\"id\":\"254a4579-86cd-42e3-aae4-bf95961343cf\",\"type\":\"Grid\"},{\"id\":\"7c436595-4080-46e8-97f1-041ee1b6d97d\",\"type\":\"BoxAnnotation\"},{\"id\":\"b580d7d8-0fd0-4527-a4f3-1eb78158839b\",\"type\":\"Legend\"},{\"id\":\"40d92e42-6ae4-4fef-8046-a9cddab447a3\",\"type\":\"GlyphRenderer\"}],\"title\":{\"id\":\"5488d913-f22d-456a-9719-a0c88182522f\",\"type\":\"Title\"},\"toolbar\":{\"id\":\"1b29b3fd-34a4-4481-84df-53fb6681b8f9\",\"type\":\"Toolbar\"},\"x_range\":{\"id\":\"b56a6b1d-6a14-4412-a16d-ac62f111e902\",\"type\":\"DataRange1d\"},\"x_scale\":{\"id\":\"6a2107c0-beaa-4d63-b0e0-ecf4dba47790\",\"type\":\"LinearScale\"},\"y_range\":{\"id\":\"a63be8bc-ec49-4ffe-8bfb-750d75bbf674\",\"type\":\"DataRange1d\"},\"y_scale\":{\"id\":\"ef20afac-fd8d-43de-b3dc-b803249b07ca\",\"type\":\"LinearScale\"}},\"id\":\"3026cfa5-ebd5-4f61-baa7-d791eda5571d\",\"subtype\":\"Figure\",\"type\":\"Plot\"},{\"attributes\":{\"days\":[1,2,3,4,5,6,7,8,9,10,11,12,13,14,15,16,17,18,19,20,21,22,23,24,25,26,27,28,29,30,31]},\"id\":\"5bb1b50a-63cc-4037-a2e4-b602caf693ff\",\"type\":\"DaysTicker\"},{\"attributes\":{},\"id\":\"0c5b2007-c014-4bcb-9a00-c27f3fb922f0\",\"type\":\"BasicTicker\"},{\"attributes\":{\"dimension\":1,\"plot\":{\"id\":\"3026cfa5-ebd5-4f61-baa7-d791eda5571d\",\"subtype\":\"Figure\",\"type\":\"Plot\"},\"ticker\":{\"id\":\"0c5b2007-c014-4bcb-9a00-c27f3fb922f0\",\"type\":\"BasicTicker\"}},\"id\":\"254a4579-86cd-42e3-aae4-bf95961343cf\",\"type\":\"Grid\"},{\"attributes\":{\"data_source\":{\"id\":\"64bc445d-f881-4495-917a-e31984a58207\",\"type\":\"ColumnDataSource\"},\"glyph\":{\"id\":\"f2a3e4b9-0481-406b-88f5-1b821edebbb9\",\"type\":\"Line\"},\"hover_glyph\":null,\"muted_glyph\":null,\"nonselection_glyph\":{\"id\":\"f1e57249-f6ff-4734-b69e-2174679ea19f\",\"type\":\"Line\"},\"selection_glyph\":null,\"view\":{\"id\":\"54a907de-42e6-4e9f-86db-f9775ae49906\",\"type\":\"CDSView\"}},\"id\":\"40d92e42-6ae4-4fef-8046-a9cddab447a3\",\"type\":\"GlyphRenderer\"},{\"attributes\":{\"base\":60,\"mantissas\":[1,2,5,10,15,20,30],\"max_interval\":1800000.0,\"min_interval\":1000.0,\"num_minor_ticks\":0},\"id\":\"83fe0391-dc46-416c-b374-71231644f4bb\",\"type\":\"AdaptiveTicker\"}],\"root_ids\":[\"3026cfa5-ebd5-4f61-baa7-d791eda5571d\"]},\"title\":\"Bokeh Application\",\"version\":\"0.12.10\"}};\n",
       "    var render_items = [{\"docid\":\"586a15cc-0be2-4a47-ab66-2bd58f79ddd1\",\"elementid\":\"21dfce72-490a-4ffb-8b45-718280533b8e\",\"modelid\":\"3026cfa5-ebd5-4f61-baa7-d791eda5571d\",\"notebook_comms_target\":\"9cad6c66-8508-4928-9534-7001804b4d47\"}];\n",
       "\n",
       "    root.Bokeh.embed.embed_items(docs_json, render_items);\n",
       "  }\n",
       "\n",
       "  if (root.Bokeh !== undefined) {\n",
       "    embed_document(root);\n",
       "  } else {\n",
       "    var attempts = 0;\n",
       "    var timer = setInterval(function(root) {\n",
       "      if (root.Bokeh !== undefined) {\n",
       "        embed_document(root);\n",
       "        clearInterval(timer);\n",
       "      }\n",
       "      attempts++;\n",
       "      if (attempts > 100) {\n",
       "        console.log(\"Bokeh: ERROR: Unable to embed document because BokehJS library is missing\")\n",
       "        clearInterval(timer);\n",
       "      }\n",
       "    }, 10, root)\n",
       "  }\n",
       "})(window);"
      ],
      "application/vnd.bokehjs_exec.v0+json": ""
     },
     "metadata": {
      "application/vnd.bokehjs_exec.v0+json": {
       "id": "3026cfa5-ebd5-4f61-baa7-d791eda5571d"
      }
     },
     "output_type": "display_data"
    },
    {
     "data": {
      "text/html": [
       "<p><code>&lt;Bokeh Notebook handle for <strong>In[28]</strong>&gt;</code></p>"
      ],
      "text/plain": [
       "<bokeh.io.notebook.CommsHandle at 0x1c5c40a4c88>"
      ]
     },
     "execution_count": 28,
     "metadata": {},
     "output_type": "execute_result"
    }
   ],
   "source": [
    "# create a new plot# create \n",
    "p = figure(\n",
    "   tools=\"pan,box_zoom,reset,save\",\n",
    "   title=\"BTC PRICE\",\n",
    "   x_axis_label='date', y_axis_label='Price',\n",
    "   x_axis_type='datetime', plot_width=800\n",
    ")\n",
    "\n",
    "# add some renderers\n",
    "p.line(daily_btc.index, daily_btc, legend='Bitcoin', color=\"blue\")\n",
    "\n",
    "# show the results\n",
    "show(p, notebook_handle=True)"
   ]
  },
  {
   "cell_type": "code",
   "execution_count": 34,
   "metadata": {},
   "outputs": [
    {
     "data": {
      "text/plain": [
       "datetime_utc\n",
       "2018-01-06    2.591909e+07\n",
       "Freq: D, Name: price, dtype: float64"
      ]
     },
     "execution_count": 34,
     "metadata": {},
     "output_type": "execute_result"
    }
   ],
   "source": [
    "daily_btc.loc[daily_btc==daily_btc.max()]"
   ]
  },
  {
   "cell_type": "markdown",
   "metadata": {},
   "source": [
    "2018년 1월 6일 이전과 이후의 양상이 다르다. 나눠서 확인해보자."
   ]
  },
  {
   "cell_type": "markdown",
   "metadata": {},
   "source": [
    "1월 6일 이전"
   ]
  },
  {
   "cell_type": "code",
   "execution_count": 38,
   "metadata": {
    "collapsed": true
   },
   "outputs": [],
   "source": [
    "prev = btc.loc[:'2018-01-06']"
   ]
  },
  {
   "cell_type": "code",
   "execution_count": 39,
   "metadata": {
    "scrolled": true
   },
   "outputs": [
    {
     "data": {
      "text/html": [
       "<div>\n",
       "<style>\n",
       "    .dataframe thead tr:only-child th {\n",
       "        text-align: right;\n",
       "    }\n",
       "\n",
       "    .dataframe thead th {\n",
       "        text-align: left;\n",
       "    }\n",
       "\n",
       "    .dataframe tbody tr th {\n",
       "        vertical-align: top;\n",
       "    }\n",
       "</style>\n",
       "<table border=\"1\" class=\"dataframe\">\n",
       "  <thead>\n",
       "    <tr style=\"text-align: right;\">\n",
       "      <th></th>\n",
       "      <th>open</th>\n",
       "      <th>high</th>\n",
       "      <th>low</th>\n",
       "      <th>close</th>\n",
       "      <th>volume</th>\n",
       "      <th>volume_amount</th>\n",
       "      <th>price</th>\n",
       "      <th>log_diff</th>\n",
       "    </tr>\n",
       "  </thead>\n",
       "  <tbody>\n",
       "    <tr>\n",
       "      <th>count</th>\n",
       "      <td>1.349320e+05</td>\n",
       "      <td>1.349320e+05</td>\n",
       "      <td>1.349320e+05</td>\n",
       "      <td>1.349320e+05</td>\n",
       "      <td>134932.000000</td>\n",
       "      <td>1.349320e+05</td>\n",
       "      <td>1.349320e+05</td>\n",
       "      <td>134932.000000</td>\n",
       "    </tr>\n",
       "    <tr>\n",
       "      <th>mean</th>\n",
       "      <td>1.208898e+07</td>\n",
       "      <td>1.210459e+07</td>\n",
       "      <td>1.207280e+07</td>\n",
       "      <td>1.208915e+07</td>\n",
       "      <td>15.281319</td>\n",
       "      <td>2.741077e+08</td>\n",
       "      <td>1.208888e+07</td>\n",
       "      <td>0.000014</td>\n",
       "    </tr>\n",
       "    <tr>\n",
       "      <th>std</th>\n",
       "      <td>6.287428e+06</td>\n",
       "      <td>6.300566e+06</td>\n",
       "      <td>6.274602e+06</td>\n",
       "      <td>6.287621e+06</td>\n",
       "      <td>23.826182</td>\n",
       "      <td>4.650943e+08</td>\n",
       "      <td>6.287512e+06</td>\n",
       "      <td>0.002771</td>\n",
       "    </tr>\n",
       "    <tr>\n",
       "      <th>min</th>\n",
       "      <td>4.318000e+06</td>\n",
       "      <td>4.318000e+06</td>\n",
       "      <td>4.318000e+06</td>\n",
       "      <td>4.318000e+06</td>\n",
       "      <td>0.000002</td>\n",
       "      <td>1.014200e+01</td>\n",
       "      <td>4.318000e+06</td>\n",
       "      <td>-0.107021</td>\n",
       "    </tr>\n",
       "    <tr>\n",
       "      <th>25%</th>\n",
       "      <td>6.848000e+06</td>\n",
       "      <td>6.850000e+06</td>\n",
       "      <td>6.844000e+06</td>\n",
       "      <td>6.848000e+06</td>\n",
       "      <td>0.046804</td>\n",
       "      <td>3.210223e+05</td>\n",
       "      <td>6.847000e+06</td>\n",
       "      <td>-0.000608</td>\n",
       "    </tr>\n",
       "    <tr>\n",
       "      <th>50%</th>\n",
       "      <td>8.968000e+06</td>\n",
       "      <td>8.974000e+06</td>\n",
       "      <td>8.958000e+06</td>\n",
       "      <td>8.966500e+06</td>\n",
       "      <td>6.167402</td>\n",
       "      <td>6.123273e+07</td>\n",
       "      <td>8.966500e+06</td>\n",
       "      <td>0.000000</td>\n",
       "    </tr>\n",
       "    <tr>\n",
       "      <th>75%</th>\n",
       "      <td>1.894200e+07</td>\n",
       "      <td>1.897000e+07</td>\n",
       "      <td>1.891400e+07</td>\n",
       "      <td>1.894200e+07</td>\n",
       "      <td>22.116531</td>\n",
       "      <td>3.904028e+08</td>\n",
       "      <td>1.894150e+07</td>\n",
       "      <td>0.000658</td>\n",
       "    </tr>\n",
       "    <tr>\n",
       "      <th>max</th>\n",
       "      <td>2.887900e+07</td>\n",
       "      <td>2.888500e+07</td>\n",
       "      <td>2.878400e+07</td>\n",
       "      <td>2.887900e+07</td>\n",
       "      <td>456.152647</td>\n",
       "      <td>8.608684e+09</td>\n",
       "      <td>2.883250e+07</td>\n",
       "      <td>0.100611</td>\n",
       "    </tr>\n",
       "  </tbody>\n",
       "</table>\n",
       "</div>"
      ],
      "text/plain": [
       "               open          high           low         close         volume  \\\n",
       "count  1.349320e+05  1.349320e+05  1.349320e+05  1.349320e+05  134932.000000   \n",
       "mean   1.208898e+07  1.210459e+07  1.207280e+07  1.208915e+07      15.281319   \n",
       "std    6.287428e+06  6.300566e+06  6.274602e+06  6.287621e+06      23.826182   \n",
       "min    4.318000e+06  4.318000e+06  4.318000e+06  4.318000e+06       0.000002   \n",
       "25%    6.848000e+06  6.850000e+06  6.844000e+06  6.848000e+06       0.046804   \n",
       "50%    8.968000e+06  8.974000e+06  8.958000e+06  8.966500e+06       6.167402   \n",
       "75%    1.894200e+07  1.897000e+07  1.891400e+07  1.894200e+07      22.116531   \n",
       "max    2.887900e+07  2.888500e+07  2.878400e+07  2.887900e+07     456.152647   \n",
       "\n",
       "       volume_amount         price       log_diff  \n",
       "count   1.349320e+05  1.349320e+05  134932.000000  \n",
       "mean    2.741077e+08  1.208888e+07       0.000014  \n",
       "std     4.650943e+08  6.287512e+06       0.002771  \n",
       "min     1.014200e+01  4.318000e+06      -0.107021  \n",
       "25%     3.210223e+05  6.847000e+06      -0.000608  \n",
       "50%     6.123273e+07  8.966500e+06       0.000000  \n",
       "75%     3.904028e+08  1.894150e+07       0.000658  \n",
       "max     8.608684e+09  2.883250e+07       0.100611  "
      ]
     },
     "execution_count": 39,
     "metadata": {},
     "output_type": "execute_result"
    }
   ],
   "source": [
    "prev.describe()"
   ]
  },
  {
   "cell_type": "markdown",
   "metadata": {},
   "source": [
    "1월 6일 이후"
   ]
  },
  {
   "cell_type": "code",
   "execution_count": 42,
   "metadata": {
    "collapsed": true
   },
   "outputs": [],
   "source": [
    "forward = btc.loc['2018-01-07':]"
   ]
  },
  {
   "cell_type": "code",
   "execution_count": 43,
   "metadata": {},
   "outputs": [
    {
     "data": {
      "text/html": [
       "<div>\n",
       "<style>\n",
       "    .dataframe thead tr:only-child th {\n",
       "        text-align: right;\n",
       "    }\n",
       "\n",
       "    .dataframe thead th {\n",
       "        text-align: left;\n",
       "    }\n",
       "\n",
       "    .dataframe tbody tr th {\n",
       "        vertical-align: top;\n",
       "    }\n",
       "</style>\n",
       "<table border=\"1\" class=\"dataframe\">\n",
       "  <thead>\n",
       "    <tr style=\"text-align: right;\">\n",
       "      <th></th>\n",
       "      <th>open</th>\n",
       "      <th>high</th>\n",
       "      <th>low</th>\n",
       "      <th>close</th>\n",
       "      <th>volume</th>\n",
       "      <th>volume_amount</th>\n",
       "      <th>price</th>\n",
       "      <th>log_diff</th>\n",
       "    </tr>\n",
       "  </thead>\n",
       "  <tbody>\n",
       "    <tr>\n",
       "      <th>count</th>\n",
       "      <td>1.605580e+05</td>\n",
       "      <td>1.605580e+05</td>\n",
       "      <td>1.605580e+05</td>\n",
       "      <td>1.605580e+05</td>\n",
       "      <td>160558.000000</td>\n",
       "      <td>1.605580e+05</td>\n",
       "      <td>1.605580e+05</td>\n",
       "      <td>160558.000000</td>\n",
       "    </tr>\n",
       "    <tr>\n",
       "      <th>mean</th>\n",
       "      <td>1.126915e+07</td>\n",
       "      <td>1.128294e+07</td>\n",
       "      <td>1.125573e+07</td>\n",
       "      <td>1.126910e+07</td>\n",
       "      <td>17.316256</td>\n",
       "      <td>2.110784e+08</td>\n",
       "      <td>1.126923e+07</td>\n",
       "      <td>-0.000006</td>\n",
       "    </tr>\n",
       "    <tr>\n",
       "      <th>std</th>\n",
       "      <td>3.810536e+06</td>\n",
       "      <td>3.818452e+06</td>\n",
       "      <td>3.802596e+06</td>\n",
       "      <td>3.810356e+06</td>\n",
       "      <td>20.082736</td>\n",
       "      <td>2.823581e+08</td>\n",
       "      <td>3.810450e+06</td>\n",
       "      <td>0.001625</td>\n",
       "    </tr>\n",
       "    <tr>\n",
       "      <th>min</th>\n",
       "      <td>6.631000e+06</td>\n",
       "      <td>6.670000e+06</td>\n",
       "      <td>6.620000e+06</td>\n",
       "      <td>6.636000e+06</td>\n",
       "      <td>0.000138</td>\n",
       "      <td>1.000355e+03</td>\n",
       "      <td>6.646250e+06</td>\n",
       "      <td>-0.039469</td>\n",
       "    </tr>\n",
       "    <tr>\n",
       "      <th>25%</th>\n",
       "      <td>8.829000e+06</td>\n",
       "      <td>8.840000e+06</td>\n",
       "      <td>8.817000e+06</td>\n",
       "      <td>8.828000e+06</td>\n",
       "      <td>5.755376</td>\n",
       "      <td>5.671388e+07</td>\n",
       "      <td>8.828250e+06</td>\n",
       "      <td>-0.000560</td>\n",
       "    </tr>\n",
       "    <tr>\n",
       "      <th>50%</th>\n",
       "      <td>9.999000e+06</td>\n",
       "      <td>1.000400e+07</td>\n",
       "      <td>9.990000e+06</td>\n",
       "      <td>9.999000e+06</td>\n",
       "      <td>11.265400</td>\n",
       "      <td>1.173247e+08</td>\n",
       "      <td>9.997500e+06</td>\n",
       "      <td>0.000000</td>\n",
       "    </tr>\n",
       "    <tr>\n",
       "      <th>75%</th>\n",
       "      <td>1.250600e+07</td>\n",
       "      <td>1.251500e+07</td>\n",
       "      <td>1.250000e+07</td>\n",
       "      <td>1.250600e+07</td>\n",
       "      <td>21.628127</td>\n",
       "      <td>2.486080e+08</td>\n",
       "      <td>1.250675e+07</td>\n",
       "      <td>0.000556</td>\n",
       "    </tr>\n",
       "    <tr>\n",
       "      <th>max</th>\n",
       "      <td>2.718500e+07</td>\n",
       "      <td>2.721000e+07</td>\n",
       "      <td>2.711500e+07</td>\n",
       "      <td>2.718700e+07</td>\n",
       "      <td>534.966763</td>\n",
       "      <td>8.319076e+09</td>\n",
       "      <td>2.715875e+07</td>\n",
       "      <td>0.050655</td>\n",
       "    </tr>\n",
       "  </tbody>\n",
       "</table>\n",
       "</div>"
      ],
      "text/plain": [
       "               open          high           low         close         volume  \\\n",
       "count  1.605580e+05  1.605580e+05  1.605580e+05  1.605580e+05  160558.000000   \n",
       "mean   1.126915e+07  1.128294e+07  1.125573e+07  1.126910e+07      17.316256   \n",
       "std    3.810536e+06  3.818452e+06  3.802596e+06  3.810356e+06      20.082736   \n",
       "min    6.631000e+06  6.670000e+06  6.620000e+06  6.636000e+06       0.000138   \n",
       "25%    8.829000e+06  8.840000e+06  8.817000e+06  8.828000e+06       5.755376   \n",
       "50%    9.999000e+06  1.000400e+07  9.990000e+06  9.999000e+06      11.265400   \n",
       "75%    1.250600e+07  1.251500e+07  1.250000e+07  1.250600e+07      21.628127   \n",
       "max    2.718500e+07  2.721000e+07  2.711500e+07  2.718700e+07     534.966763   \n",
       "\n",
       "       volume_amount         price       log_diff  \n",
       "count   1.605580e+05  1.605580e+05  160558.000000  \n",
       "mean    2.110784e+08  1.126923e+07      -0.000006  \n",
       "std     2.823581e+08  3.810450e+06       0.001625  \n",
       "min     1.000355e+03  6.646250e+06      -0.039469  \n",
       "25%     5.671388e+07  8.828250e+06      -0.000560  \n",
       "50%     1.173247e+08  9.997500e+06       0.000000  \n",
       "75%     2.486080e+08  1.250675e+07       0.000556  \n",
       "max     8.319076e+09  2.715875e+07       0.050655  "
      ]
     },
     "execution_count": 43,
     "metadata": {},
     "output_type": "execute_result"
    }
   ],
   "source": [
    "forward.describe()"
   ]
  },
  {
   "cell_type": "markdown",
   "metadata": {},
   "source": [
    "**평균 상승률(Log Diff)**\n",
    "\n",
    "2018년 1월 6일 이전 0.000014\n",
    "\n",
    "2018년 1월 6일 이후 -0.000006\n",
    "\n",
    "중간값은 모두 0"
   ]
  },
  {
   "cell_type": "markdown",
   "metadata": {},
   "source": [
    "### 상승확률"
   ]
  },
  {
   "cell_type": "markdown",
   "metadata": {},
   "source": [
    "**2018년 1월 6일 이전**"
   ]
  },
  {
   "cell_type": "code",
   "execution_count": 49,
   "metadata": {},
   "outputs": [
    {
     "data": {
      "text/plain": [
       "0.48732694987104613"
      ]
     },
     "execution_count": 49,
     "metadata": {},
     "output_type": "execute_result"
    }
   ],
   "source": [
    "len(prev[prev.log_diff>0])/len(prev.log_diff)"
   ]
  },
  {
   "cell_type": "code",
   "execution_count": 50,
   "metadata": {},
   "outputs": [
    {
     "data": {
      "text/plain": [
       "0.052196662022352"
      ]
     },
     "execution_count": 50,
     "metadata": {},
     "output_type": "execute_result"
    }
   ],
   "source": [
    "len(prev[prev.log_diff==0])/len(prev.log_diff)"
   ]
  },
  {
   "cell_type": "code",
   "execution_count": 56,
   "metadata": {},
   "outputs": [
    {
     "data": {
      "text/plain": [
       "0.4604763881066018"
      ]
     },
     "execution_count": 56,
     "metadata": {},
     "output_type": "execute_result"
    }
   ],
   "source": [
    "1-0.48732694987104613-0.052196662022352"
   ]
  },
  {
   "cell_type": "code",
   "execution_count": 126,
   "metadata": {},
   "outputs": [
    {
     "data": {
      "text/plain": [
       "0.96263320355664961"
      ]
     },
     "execution_count": 126,
     "metadata": {},
     "output_type": "execute_result"
    }
   ],
   "source": [
    "# 손익비\n",
    "(prev[prev.log_diff>0].mean()/abs(prev[prev.log_diff<0].mean())).log_diff"
   ]
  },
  {
   "cell_type": "markdown",
   "metadata": {},
   "source": [
    "**2018년 1월 6일 이후**"
   ]
  },
  {
   "cell_type": "code",
   "execution_count": 51,
   "metadata": {},
   "outputs": [
    {
     "data": {
      "text/plain": [
       "0.4952166818221453"
      ]
     },
     "execution_count": 51,
     "metadata": {},
     "output_type": "execute_result"
    }
   ],
   "source": [
    "len(forward[forward.log_diff>0])/len(forward.log_diff)"
   ]
  },
  {
   "cell_type": "code",
   "execution_count": 52,
   "metadata": {},
   "outputs": [
    {
     "data": {
      "text/plain": [
       "0.015495957847008558"
      ]
     },
     "execution_count": 52,
     "metadata": {},
     "output_type": "execute_result"
    }
   ],
   "source": [
    "len(forward[forward.log_diff==0])/len(forward.log_diff)"
   ]
  },
  {
   "cell_type": "code",
   "execution_count": 57,
   "metadata": {},
   "outputs": [
    {
     "data": {
      "text/plain": [
       "0.48928736033084613"
      ]
     },
     "execution_count": 57,
     "metadata": {},
     "output_type": "execute_result"
    }
   ],
   "source": [
    "1-0.4952166818221453-0.015495957847008558"
   ]
  },
  {
   "cell_type": "code",
   "execution_count": 129,
   "metadata": {},
   "outputs": [
    {
     "data": {
      "text/plain": [
       "0.97546756620881314"
      ]
     },
     "execution_count": 129,
     "metadata": {},
     "output_type": "execute_result"
    }
   ],
   "source": [
    "# 손익비\n",
    "(forward[forward.log_diff>0].mean()/abs(forward[forward.log_diff<0].mean())).log_diff"
   ]
  },
  {
   "cell_type": "markdown",
   "metadata": {},
   "source": [
    "승률 50%기준 손익비가 1 이상이어야 이익 (log diff 기준)"
   ]
  },
  {
   "cell_type": "markdown",
   "metadata": {},
   "source": [
    "**전체기간**"
   ]
  },
  {
   "cell_type": "code",
   "execution_count": 54,
   "metadata": {},
   "outputs": [
    {
     "data": {
      "text/plain": [
       "0.49161392940539445"
      ]
     },
     "execution_count": 54,
     "metadata": {},
     "output_type": "execute_result"
    }
   ],
   "source": [
    "(len(forward[forward.log_diff>0]) + len(prev[prev.log_diff>0]))/(len(forward.log_diff)+len(prev.log_diff))"
   ]
  },
  {
   "cell_type": "code",
   "execution_count": 55,
   "metadata": {
    "scrolled": true
   },
   "outputs": [
    {
     "data": {
      "text/plain": [
       "0.03225489864293208"
      ]
     },
     "execution_count": 55,
     "metadata": {},
     "output_type": "execute_result"
    }
   ],
   "source": [
    "(len(forward[forward.log_diff==0]) + len(prev[prev.log_diff==0]))/(len(forward.log_diff)+len(prev.log_diff))"
   ]
  },
  {
   "cell_type": "markdown",
   "metadata": {},
   "source": [
    "**1분후 상승확률**\n",
    "\n",
    "- 2018년 1월 6일 이전: 48.73%\n",
    "- 2018년 1월 6일 이후: 49.52%\n",
    "\n",
    "** 1분후 하락확률**\n",
    "\n",
    "- 2018년 1월 6일 이전: 46.05%\n",
    "- 2018년 1월 6일 이후: 48.93%\n",
    "\n",
    "** 손익비 **\n",
    "\n",
    "- 2018년 1월 6일 이전: 96.26%\n",
    "- 2018년 1월 6일 이후: 97.55%"
   ]
  },
  {
   "cell_type": "markdown",
   "metadata": {},
   "source": [
    "### 2분전 하락 & 1분전 상승시의 기초 통계"
   ]
  },
  {
   "cell_type": "markdown",
   "metadata": {},
   "source": [
    "**2018년 1월 6일 이전**"
   ]
  },
  {
   "cell_type": "code",
   "execution_count": 150,
   "metadata": {},
   "outputs": [],
   "source": [
    "condition = (prev.log_diff.shift(1) > 0) & (prev.log_diff.shift(2) < 0)"
   ]
  },
  {
   "cell_type": "code",
   "execution_count": 151,
   "metadata": {},
   "outputs": [
    {
     "data": {
      "text/html": [
       "<div>\n",
       "<style>\n",
       "    .dataframe thead tr:only-child th {\n",
       "        text-align: right;\n",
       "    }\n",
       "\n",
       "    .dataframe thead th {\n",
       "        text-align: left;\n",
       "    }\n",
       "\n",
       "    .dataframe tbody tr th {\n",
       "        vertical-align: top;\n",
       "    }\n",
       "</style>\n",
       "<table border=\"1\" class=\"dataframe\">\n",
       "  <thead>\n",
       "    <tr style=\"text-align: right;\">\n",
       "      <th></th>\n",
       "      <th>open</th>\n",
       "      <th>high</th>\n",
       "      <th>low</th>\n",
       "      <th>close</th>\n",
       "      <th>volume</th>\n",
       "      <th>volume_amount</th>\n",
       "      <th>price</th>\n",
       "      <th>log_diff</th>\n",
       "    </tr>\n",
       "  </thead>\n",
       "  <tbody>\n",
       "    <tr>\n",
       "      <th>count</th>\n",
       "      <td>2.640000e+04</td>\n",
       "      <td>2.640000e+04</td>\n",
       "      <td>2.640000e+04</td>\n",
       "      <td>2.640000e+04</td>\n",
       "      <td>26400.000000</td>\n",
       "      <td>2.640000e+04</td>\n",
       "      <td>2.640000e+04</td>\n",
       "      <td>26400.000000</td>\n",
       "    </tr>\n",
       "    <tr>\n",
       "      <th>mean</th>\n",
       "      <td>1.135007e+07</td>\n",
       "      <td>1.136388e+07</td>\n",
       "      <td>1.133623e+07</td>\n",
       "      <td>1.135063e+07</td>\n",
       "      <td>12.677809</td>\n",
       "      <td>2.269228e+08</td>\n",
       "      <td>1.135020e+07</td>\n",
       "      <td>0.000015</td>\n",
       "    </tr>\n",
       "    <tr>\n",
       "      <th>std</th>\n",
       "      <td>6.229292e+06</td>\n",
       "      <td>6.241813e+06</td>\n",
       "      <td>6.217827e+06</td>\n",
       "      <td>6.229875e+06</td>\n",
       "      <td>21.346180</td>\n",
       "      <td>4.166457e+08</td>\n",
       "      <td>6.229669e+06</td>\n",
       "      <td>0.003013</td>\n",
       "    </tr>\n",
       "    <tr>\n",
       "      <th>min</th>\n",
       "      <td>4.318000e+06</td>\n",
       "      <td>4.318000e+06</td>\n",
       "      <td>4.318000e+06</td>\n",
       "      <td>4.318000e+06</td>\n",
       "      <td>0.000002</td>\n",
       "      <td>1.014200e+01</td>\n",
       "      <td>4.318000e+06</td>\n",
       "      <td>-0.107021</td>\n",
       "    </tr>\n",
       "    <tr>\n",
       "      <th>25%</th>\n",
       "      <td>6.547000e+06</td>\n",
       "      <td>6.549750e+06</td>\n",
       "      <td>6.543000e+06</td>\n",
       "      <td>6.548000e+06</td>\n",
       "      <td>0.004315</td>\n",
       "      <td>2.329520e+04</td>\n",
       "      <td>6.546875e+06</td>\n",
       "      <td>-0.000466</td>\n",
       "    </tr>\n",
       "    <tr>\n",
       "      <th>50%</th>\n",
       "      <td>8.411000e+06</td>\n",
       "      <td>8.414000e+06</td>\n",
       "      <td>8.402000e+06</td>\n",
       "      <td>8.410000e+06</td>\n",
       "      <td>3.178923</td>\n",
       "      <td>2.714552e+07</td>\n",
       "      <td>8.409125e+06</td>\n",
       "      <td>0.000087</td>\n",
       "    </tr>\n",
       "    <tr>\n",
       "      <th>75%</th>\n",
       "      <td>1.858000e+07</td>\n",
       "      <td>1.860225e+07</td>\n",
       "      <td>1.855500e+07</td>\n",
       "      <td>1.858425e+07</td>\n",
       "      <td>18.519064</td>\n",
       "      <td>3.134252e+08</td>\n",
       "      <td>1.858031e+07</td>\n",
       "      <td>0.000818</td>\n",
       "    </tr>\n",
       "    <tr>\n",
       "      <th>max</th>\n",
       "      <td>2.863100e+07</td>\n",
       "      <td>2.869900e+07</td>\n",
       "      <td>2.863100e+07</td>\n",
       "      <td>2.869800e+07</td>\n",
       "      <td>456.152647</td>\n",
       "      <td>8.509205e+09</td>\n",
       "      <td>2.865925e+07</td>\n",
       "      <td>0.035063</td>\n",
       "    </tr>\n",
       "  </tbody>\n",
       "</table>\n",
       "</div>"
      ],
      "text/plain": [
       "               open          high           low         close        volume  \\\n",
       "count  2.640000e+04  2.640000e+04  2.640000e+04  2.640000e+04  26400.000000   \n",
       "mean   1.135007e+07  1.136388e+07  1.133623e+07  1.135063e+07     12.677809   \n",
       "std    6.229292e+06  6.241813e+06  6.217827e+06  6.229875e+06     21.346180   \n",
       "min    4.318000e+06  4.318000e+06  4.318000e+06  4.318000e+06      0.000002   \n",
       "25%    6.547000e+06  6.549750e+06  6.543000e+06  6.548000e+06      0.004315   \n",
       "50%    8.411000e+06  8.414000e+06  8.402000e+06  8.410000e+06      3.178923   \n",
       "75%    1.858000e+07  1.860225e+07  1.855500e+07  1.858425e+07     18.519064   \n",
       "max    2.863100e+07  2.869900e+07  2.863100e+07  2.869800e+07    456.152647   \n",
       "\n",
       "       volume_amount         price      log_diff  \n",
       "count   2.640000e+04  2.640000e+04  26400.000000  \n",
       "mean    2.269228e+08  1.135020e+07      0.000015  \n",
       "std     4.166457e+08  6.229669e+06      0.003013  \n",
       "min     1.014200e+01  4.318000e+06     -0.107021  \n",
       "25%     2.329520e+04  6.546875e+06     -0.000466  \n",
       "50%     2.714552e+07  8.409125e+06      0.000087  \n",
       "75%     3.134252e+08  1.858031e+07      0.000818  \n",
       "max     8.509205e+09  2.865925e+07      0.035063  "
      ]
     },
     "execution_count": 151,
     "metadata": {},
     "output_type": "execute_result"
    }
   ],
   "source": [
    "prev[condition].describe()"
   ]
  },
  {
   "cell_type": "code",
   "execution_count": 152,
   "metadata": {
    "scrolled": true
   },
   "outputs": [
    {
     "data": {
      "text/plain": [
       "0.537689393939394"
      ]
     },
     "execution_count": 152,
     "metadata": {},
     "output_type": "execute_result"
    }
   ],
   "source": [
    "len(prev[(prev.log_diff > 0)&condition])/len(prev[condition])"
   ]
  },
  {
   "cell_type": "code",
   "execution_count": 153,
   "metadata": {},
   "outputs": [
    {
     "data": {
      "text/plain": [
       "0.05125"
      ]
     },
     "execution_count": 153,
     "metadata": {},
     "output_type": "execute_result"
    }
   ],
   "source": [
    "len(prev[(prev.log_diff == 0)&condition])/len(prev[condition])"
   ]
  },
  {
   "cell_type": "code",
   "execution_count": 154,
   "metadata": {},
   "outputs": [
    {
     "data": {
      "text/plain": [
       "0.41106060606060607"
      ]
     },
     "execution_count": 154,
     "metadata": {},
     "output_type": "execute_result"
    }
   ],
   "source": [
    "len(prev[(prev.log_diff < 0)&condition])/len(prev[condition])"
   ]
  },
  {
   "cell_type": "code",
   "execution_count": 155,
   "metadata": {},
   "outputs": [
    {
     "data": {
      "text/plain": [
       "0.77933653021613547"
      ]
     },
     "execution_count": 155,
     "metadata": {},
     "output_type": "execute_result"
    }
   ],
   "source": [
    "# 손익비\n",
    "(prev[(prev.log_diff > 0)&condition].mean()/abs(prev[(prev.log_diff < 0)&condition].mean())).log_diff"
   ]
  },
  {
   "cell_type": "markdown",
   "metadata": {},
   "source": [
    "**2018년 1월 6일 이후**"
   ]
  },
  {
   "cell_type": "code",
   "execution_count": 156,
   "metadata": {
    "collapsed": true
   },
   "outputs": [],
   "source": [
    "condition = (forward.log_diff.shift(1) > 0) & (forward.log_diff.shift(2) < 0)"
   ]
  },
  {
   "cell_type": "code",
   "execution_count": 157,
   "metadata": {},
   "outputs": [
    {
     "data": {
      "text/html": [
       "<div>\n",
       "<style>\n",
       "    .dataframe thead tr:only-child th {\n",
       "        text-align: right;\n",
       "    }\n",
       "\n",
       "    .dataframe thead th {\n",
       "        text-align: left;\n",
       "    }\n",
       "\n",
       "    .dataframe tbody tr th {\n",
       "        vertical-align: top;\n",
       "    }\n",
       "</style>\n",
       "<table border=\"1\" class=\"dataframe\">\n",
       "  <thead>\n",
       "    <tr style=\"text-align: right;\">\n",
       "      <th></th>\n",
       "      <th>open</th>\n",
       "      <th>high</th>\n",
       "      <th>low</th>\n",
       "      <th>close</th>\n",
       "      <th>volume</th>\n",
       "      <th>volume_amount</th>\n",
       "      <th>price</th>\n",
       "      <th>log_diff</th>\n",
       "    </tr>\n",
       "  </thead>\n",
       "  <tbody>\n",
       "    <tr>\n",
       "      <th>count</th>\n",
       "      <td>2.871800e+04</td>\n",
       "      <td>2.871800e+04</td>\n",
       "      <td>2.871800e+04</td>\n",
       "      <td>2.871800e+04</td>\n",
       "      <td>28718.000000</td>\n",
       "      <td>2.871800e+04</td>\n",
       "      <td>2.871800e+04</td>\n",
       "      <td>28718.000000</td>\n",
       "    </tr>\n",
       "    <tr>\n",
       "      <th>mean</th>\n",
       "      <td>1.120758e+07</td>\n",
       "      <td>1.122105e+07</td>\n",
       "      <td>1.119497e+07</td>\n",
       "      <td>1.120797e+07</td>\n",
       "      <td>15.915973</td>\n",
       "      <td>1.940962e+08</td>\n",
       "      <td>1.120789e+07</td>\n",
       "      <td>0.000522</td>\n",
       "    </tr>\n",
       "    <tr>\n",
       "      <th>std</th>\n",
       "      <td>3.761075e+06</td>\n",
       "      <td>3.768944e+06</td>\n",
       "      <td>3.754057e+06</td>\n",
       "      <td>3.761614e+06</td>\n",
       "      <td>18.329990</td>\n",
       "      <td>2.642939e+08</td>\n",
       "      <td>3.761392e+06</td>\n",
       "      <td>0.001515</td>\n",
       "    </tr>\n",
       "    <tr>\n",
       "      <th>min</th>\n",
       "      <td>6.682000e+06</td>\n",
       "      <td>6.700000e+06</td>\n",
       "      <td>6.661000e+06</td>\n",
       "      <td>6.670000e+06</td>\n",
       "      <td>0.000138</td>\n",
       "      <td>1.000355e+03</td>\n",
       "      <td>6.678250e+06</td>\n",
       "      <td>-0.013766</td>\n",
       "    </tr>\n",
       "    <tr>\n",
       "      <th>25%</th>\n",
       "      <td>8.792250e+06</td>\n",
       "      <td>8.806250e+06</td>\n",
       "      <td>8.786000e+06</td>\n",
       "      <td>8.795250e+06</td>\n",
       "      <td>5.269321</td>\n",
       "      <td>5.164130e+07</td>\n",
       "      <td>8.795562e+06</td>\n",
       "      <td>-0.000129</td>\n",
       "    </tr>\n",
       "    <tr>\n",
       "      <th>50%</th>\n",
       "      <td>9.961000e+06</td>\n",
       "      <td>9.970000e+06</td>\n",
       "      <td>9.954000e+06</td>\n",
       "      <td>9.962000e+06</td>\n",
       "      <td>10.440538</td>\n",
       "      <td>1.077699e+08</td>\n",
       "      <td>9.961875e+06</td>\n",
       "      <td>0.000310</td>\n",
       "    </tr>\n",
       "    <tr>\n",
       "      <th>75%</th>\n",
       "      <td>1.247600e+07</td>\n",
       "      <td>1.248900e+07</td>\n",
       "      <td>1.246500e+07</td>\n",
       "      <td>1.247600e+07</td>\n",
       "      <td>20.027904</td>\n",
       "      <td>2.296575e+08</td>\n",
       "      <td>1.247638e+07</td>\n",
       "      <td>0.000955</td>\n",
       "    </tr>\n",
       "    <tr>\n",
       "      <th>max</th>\n",
       "      <td>2.698600e+07</td>\n",
       "      <td>2.712500e+07</td>\n",
       "      <td>2.693200e+07</td>\n",
       "      <td>2.712000e+07</td>\n",
       "      <td>453.045367</td>\n",
       "      <td>7.678347e+09</td>\n",
       "      <td>2.704075e+07</td>\n",
       "      <td>0.036130</td>\n",
       "    </tr>\n",
       "  </tbody>\n",
       "</table>\n",
       "</div>"
      ],
      "text/plain": [
       "               open          high           low         close        volume  \\\n",
       "count  2.871800e+04  2.871800e+04  2.871800e+04  2.871800e+04  28718.000000   \n",
       "mean   1.120758e+07  1.122105e+07  1.119497e+07  1.120797e+07     15.915973   \n",
       "std    3.761075e+06  3.768944e+06  3.754057e+06  3.761614e+06     18.329990   \n",
       "min    6.682000e+06  6.700000e+06  6.661000e+06  6.670000e+06      0.000138   \n",
       "25%    8.792250e+06  8.806250e+06  8.786000e+06  8.795250e+06      5.269321   \n",
       "50%    9.961000e+06  9.970000e+06  9.954000e+06  9.962000e+06     10.440538   \n",
       "75%    1.247600e+07  1.248900e+07  1.246500e+07  1.247600e+07     20.027904   \n",
       "max    2.698600e+07  2.712500e+07  2.693200e+07  2.712000e+07    453.045367   \n",
       "\n",
       "       volume_amount         price      log_diff  \n",
       "count   2.871800e+04  2.871800e+04  28718.000000  \n",
       "mean    1.940962e+08  1.120789e+07      0.000522  \n",
       "std     2.642939e+08  3.761392e+06      0.001515  \n",
       "min     1.000355e+03  6.678250e+06     -0.013766  \n",
       "25%     5.164130e+07  8.795562e+06     -0.000129  \n",
       "50%     1.077699e+08  9.961875e+06      0.000310  \n",
       "75%     2.296575e+08  1.247638e+07      0.000955  \n",
       "max     7.678347e+09  2.704075e+07      0.036130  "
      ]
     },
     "execution_count": 157,
     "metadata": {},
     "output_type": "execute_result"
    }
   ],
   "source": [
    "forward[condition].describe()"
   ]
  },
  {
   "cell_type": "code",
   "execution_count": 158,
   "metadata": {},
   "outputs": [
    {
     "data": {
      "text/plain": [
       "0.6755693293404833"
      ]
     },
     "execution_count": 158,
     "metadata": {},
     "output_type": "execute_result"
    }
   ],
   "source": [
    "len(forward[(forward.log_diff > 0)&condition])/len(forward[condition])"
   ]
  },
  {
   "cell_type": "code",
   "execution_count": 159,
   "metadata": {},
   "outputs": [
    {
     "data": {
      "text/plain": [
       "0.014172296120899784"
      ]
     },
     "execution_count": 159,
     "metadata": {},
     "output_type": "execute_result"
    }
   ],
   "source": [
    "len(forward[(forward.log_diff == 0)&condition])/len(forward[condition])"
   ]
  },
  {
   "cell_type": "code",
   "execution_count": 160,
   "metadata": {},
   "outputs": [
    {
     "data": {
      "text/plain": [
       "0.3102583745386169"
      ]
     },
     "execution_count": 160,
     "metadata": {},
     "output_type": "execute_result"
    }
   ],
   "source": [
    "len(forward[(forward.log_diff < 0)&condition])/len(forward[condition])"
   ]
  },
  {
   "cell_type": "code",
   "execution_count": 161,
   "metadata": {},
   "outputs": [
    {
     "data": {
      "text/plain": [
       "1.5853572299607936"
      ]
     },
     "execution_count": 161,
     "metadata": {},
     "output_type": "execute_result"
    }
   ],
   "source": [
    "# 손익비\n",
    "(forward[(forward.log_diff > 0)&condition].mean()/abs(forward[(forward.log_diff < 0)&condition].mean())).log_diff"
   ]
  },
  {
   "cell_type": "markdown",
   "metadata": {},
   "source": [
    "**2분전 하락, 1분전 상승시 1분후 상승확률**\n",
    "\n",
    "- 2018년 1월 6일 이전: 53.76% (기본: 48.73%)\n",
    "- 2018년 1월 6일 이후: 67.56% (기본: 49.52%)\n",
    "\n",
    "**2분전 하락, 1분전 상승시 1분후 하락확률**\n",
    "\n",
    "- 2018년 1월 6일 이전: 41.11% (기본: 46.05%)\n",
    "- 2018년 1월 6일 이후: 31.03% (기본: 48.93%)\n",
    "\n",
    "**2분전 하락, 1분전 상승시 손익비**\n",
    "\n",
    "- 2018년 1월 6일 이전: 77.93% (기본: 96.27%)\n",
    "- 2018년 1월 6일 이후: 158.54% (기본: 97.54%)"
   ]
  },
  {
   "cell_type": "markdown",
   "metadata": {},
   "source": [
    "### 3분전 하락, 2분 연속 상승시의 기초 통계"
   ]
  },
  {
   "cell_type": "markdown",
   "metadata": {},
   "source": [
    "**2018년 1월 6일 이전**"
   ]
  },
  {
   "cell_type": "code",
   "execution_count": 175,
   "metadata": {},
   "outputs": [],
   "source": [
    "condition = (prev.log_diff.shift(1) > 0) & (prev.log_diff.shift(2) > 0) & (prev.log_diff.shift(3) < 0)"
   ]
  },
  {
   "cell_type": "code",
   "execution_count": 176,
   "metadata": {},
   "outputs": [
    {
     "data": {
      "text/html": [
       "<div>\n",
       "<style>\n",
       "    .dataframe thead tr:only-child th {\n",
       "        text-align: right;\n",
       "    }\n",
       "\n",
       "    .dataframe thead th {\n",
       "        text-align: left;\n",
       "    }\n",
       "\n",
       "    .dataframe tbody tr th {\n",
       "        vertical-align: top;\n",
       "    }\n",
       "</style>\n",
       "<table border=\"1\" class=\"dataframe\">\n",
       "  <thead>\n",
       "    <tr style=\"text-align: right;\">\n",
       "      <th></th>\n",
       "      <th>open</th>\n",
       "      <th>high</th>\n",
       "      <th>low</th>\n",
       "      <th>close</th>\n",
       "      <th>volume</th>\n",
       "      <th>volume_amount</th>\n",
       "      <th>price</th>\n",
       "      <th>log_diff</th>\n",
       "    </tr>\n",
       "  </thead>\n",
       "  <tbody>\n",
       "    <tr>\n",
       "      <th>count</th>\n",
       "      <td>1.419500e+04</td>\n",
       "      <td>1.419500e+04</td>\n",
       "      <td>1.419500e+04</td>\n",
       "      <td>1.419500e+04</td>\n",
       "      <td>14195.000000</td>\n",
       "      <td>1.419500e+04</td>\n",
       "      <td>1.419500e+04</td>\n",
       "      <td>14195.000000</td>\n",
       "    </tr>\n",
       "    <tr>\n",
       "      <th>mean</th>\n",
       "      <td>1.283668e+07</td>\n",
       "      <td>1.285316e+07</td>\n",
       "      <td>1.282034e+07</td>\n",
       "      <td>1.283797e+07</td>\n",
       "      <td>16.686055</td>\n",
       "      <td>3.011624e+08</td>\n",
       "      <td>1.283704e+07</td>\n",
       "      <td>-0.000082</td>\n",
       "    </tr>\n",
       "    <tr>\n",
       "      <th>std</th>\n",
       "      <td>6.359590e+06</td>\n",
       "      <td>6.372120e+06</td>\n",
       "      <td>6.347932e+06</td>\n",
       "      <td>6.360746e+06</td>\n",
       "      <td>23.468183</td>\n",
       "      <td>4.594011e+08</td>\n",
       "      <td>6.360058e+06</td>\n",
       "      <td>0.002600</td>\n",
       "    </tr>\n",
       "    <tr>\n",
       "      <th>min</th>\n",
       "      <td>4.332000e+06</td>\n",
       "      <td>4.337000e+06</td>\n",
       "      <td>4.332000e+06</td>\n",
       "      <td>4.332000e+06</td>\n",
       "      <td>0.000004</td>\n",
       "      <td>1.828000e+01</td>\n",
       "      <td>4.333250e+06</td>\n",
       "      <td>-0.020334</td>\n",
       "    </tr>\n",
       "    <tr>\n",
       "      <th>25%</th>\n",
       "      <td>7.294000e+06</td>\n",
       "      <td>7.300000e+06</td>\n",
       "      <td>7.278000e+06</td>\n",
       "      <td>7.292000e+06</td>\n",
       "      <td>0.464191</td>\n",
       "      <td>3.450944e+06</td>\n",
       "      <td>7.290500e+06</td>\n",
       "      <td>-0.000524</td>\n",
       "    </tr>\n",
       "    <tr>\n",
       "      <th>50%</th>\n",
       "      <td>1.013100e+07</td>\n",
       "      <td>1.014000e+07</td>\n",
       "      <td>1.012500e+07</td>\n",
       "      <td>1.013700e+07</td>\n",
       "      <td>9.043826</td>\n",
       "      <td>1.088915e+08</td>\n",
       "      <td>1.013475e+07</td>\n",
       "      <td>0.000063</td>\n",
       "    </tr>\n",
       "    <tr>\n",
       "      <th>75%</th>\n",
       "      <td>1.914000e+07</td>\n",
       "      <td>1.915250e+07</td>\n",
       "      <td>1.911900e+07</td>\n",
       "      <td>1.913900e+07</td>\n",
       "      <td>24.319648</td>\n",
       "      <td>4.447399e+08</td>\n",
       "      <td>1.913862e+07</td>\n",
       "      <td>0.000714</td>\n",
       "    </tr>\n",
       "    <tr>\n",
       "      <th>max</th>\n",
       "      <td>2.869600e+07</td>\n",
       "      <td>2.879600e+07</td>\n",
       "      <td>2.868900e+07</td>\n",
       "      <td>2.879000e+07</td>\n",
       "      <td>365.566560</td>\n",
       "      <td>6.443063e+09</td>\n",
       "      <td>2.874275e+07</td>\n",
       "      <td>0.028252</td>\n",
       "    </tr>\n",
       "  </tbody>\n",
       "</table>\n",
       "</div>"
      ],
      "text/plain": [
       "               open          high           low         close        volume  \\\n",
       "count  1.419500e+04  1.419500e+04  1.419500e+04  1.419500e+04  14195.000000   \n",
       "mean   1.283668e+07  1.285316e+07  1.282034e+07  1.283797e+07     16.686055   \n",
       "std    6.359590e+06  6.372120e+06  6.347932e+06  6.360746e+06     23.468183   \n",
       "min    4.332000e+06  4.337000e+06  4.332000e+06  4.332000e+06      0.000004   \n",
       "25%    7.294000e+06  7.300000e+06  7.278000e+06  7.292000e+06      0.464191   \n",
       "50%    1.013100e+07  1.014000e+07  1.012500e+07  1.013700e+07      9.043826   \n",
       "75%    1.914000e+07  1.915250e+07  1.911900e+07  1.913900e+07     24.319648   \n",
       "max    2.869600e+07  2.879600e+07  2.868900e+07  2.879000e+07    365.566560   \n",
       "\n",
       "       volume_amount         price      log_diff  \n",
       "count   1.419500e+04  1.419500e+04  14195.000000  \n",
       "mean    3.011624e+08  1.283704e+07     -0.000082  \n",
       "std     4.594011e+08  6.360058e+06      0.002600  \n",
       "min     1.828000e+01  4.333250e+06     -0.020334  \n",
       "25%     3.450944e+06  7.290500e+06     -0.000524  \n",
       "50%     1.088915e+08  1.013475e+07      0.000063  \n",
       "75%     4.447399e+08  1.913862e+07      0.000714  \n",
       "max     6.443063e+09  2.874275e+07      0.028252  "
      ]
     },
     "execution_count": 176,
     "metadata": {},
     "output_type": "execute_result"
    }
   ],
   "source": [
    "prev[condition].describe()"
   ]
  },
  {
   "cell_type": "code",
   "execution_count": 177,
   "metadata": {
    "scrolled": true
   },
   "outputs": [
    {
     "data": {
      "text/plain": [
       "0.5318069742867206"
      ]
     },
     "execution_count": 177,
     "metadata": {},
     "output_type": "execute_result"
    }
   ],
   "source": [
    "len(prev[(prev.log_diff > 0)&condition])/len(prev[condition])"
   ]
  },
  {
   "cell_type": "code",
   "execution_count": 178,
   "metadata": {},
   "outputs": [
    {
     "data": {
      "text/plain": [
       "0.037618879887284254"
      ]
     },
     "execution_count": 178,
     "metadata": {},
     "output_type": "execute_result"
    }
   ],
   "source": [
    "len(prev[(prev.log_diff == 0)&condition])/len(prev[condition])"
   ]
  },
  {
   "cell_type": "code",
   "execution_count": 179,
   "metadata": {},
   "outputs": [
    {
     "data": {
      "text/plain": [
       "0.43057414582599507"
      ]
     },
     "execution_count": 179,
     "metadata": {},
     "output_type": "execute_result"
    }
   ],
   "source": [
    "len(prev[(prev.log_diff < 0)&condition])/len(prev[condition])"
   ]
  },
  {
   "cell_type": "code",
   "execution_count": 180,
   "metadata": {},
   "outputs": [
    {
     "data": {
      "text/plain": [
       "0.7203401337065537"
      ]
     },
     "execution_count": 180,
     "metadata": {},
     "output_type": "execute_result"
    }
   ],
   "source": [
    "# 손익비\n",
    "(prev[(prev.log_diff > 0)&condition].mean()/abs(prev[(prev.log_diff < 0)&condition].mean())).log_diff"
   ]
  },
  {
   "cell_type": "markdown",
   "metadata": {},
   "source": [
    "**2018년 1월 6일 이후**"
   ]
  },
  {
   "cell_type": "code",
   "execution_count": 181,
   "metadata": {
    "collapsed": true
   },
   "outputs": [],
   "source": [
    "condition = (forward.log_diff.shift(1) > 0) & (forward.log_diff.shift(2) > 0) & (forward.log_diff.shift(3) < 0)"
   ]
  },
  {
   "cell_type": "code",
   "execution_count": 182,
   "metadata": {},
   "outputs": [
    {
     "data": {
      "text/html": [
       "<div>\n",
       "<style>\n",
       "    .dataframe thead tr:only-child th {\n",
       "        text-align: right;\n",
       "    }\n",
       "\n",
       "    .dataframe thead th {\n",
       "        text-align: left;\n",
       "    }\n",
       "\n",
       "    .dataframe tbody tr th {\n",
       "        vertical-align: top;\n",
       "    }\n",
       "</style>\n",
       "<table border=\"1\" class=\"dataframe\">\n",
       "  <thead>\n",
       "    <tr style=\"text-align: right;\">\n",
       "      <th></th>\n",
       "      <th>open</th>\n",
       "      <th>high</th>\n",
       "      <th>low</th>\n",
       "      <th>close</th>\n",
       "      <th>volume</th>\n",
       "      <th>volume_amount</th>\n",
       "      <th>price</th>\n",
       "      <th>log_diff</th>\n",
       "    </tr>\n",
       "  </thead>\n",
       "  <tbody>\n",
       "    <tr>\n",
       "      <th>count</th>\n",
       "      <td>1.940100e+04</td>\n",
       "      <td>1.940100e+04</td>\n",
       "      <td>1.940100e+04</td>\n",
       "      <td>1.940100e+04</td>\n",
       "      <td>19401.000000</td>\n",
       "      <td>1.940100e+04</td>\n",
       "      <td>1.940100e+04</td>\n",
       "      <td>19401.000000</td>\n",
       "    </tr>\n",
       "    <tr>\n",
       "      <th>mean</th>\n",
       "      <td>1.133138e+07</td>\n",
       "      <td>1.134520e+07</td>\n",
       "      <td>1.131817e+07</td>\n",
       "      <td>1.133229e+07</td>\n",
       "      <td>16.997496</td>\n",
       "      <td>2.085954e+08</td>\n",
       "      <td>1.133176e+07</td>\n",
       "      <td>0.000289</td>\n",
       "    </tr>\n",
       "    <tr>\n",
       "      <th>std</th>\n",
       "      <td>3.830480e+06</td>\n",
       "      <td>3.838547e+06</td>\n",
       "      <td>3.823268e+06</td>\n",
       "      <td>3.831529e+06</td>\n",
       "      <td>19.572755</td>\n",
       "      <td>2.810273e+08</td>\n",
       "      <td>3.830922e+06</td>\n",
       "      <td>0.001596</td>\n",
       "    </tr>\n",
       "    <tr>\n",
       "      <th>min</th>\n",
       "      <td>6.730000e+06</td>\n",
       "      <td>6.741000e+06</td>\n",
       "      <td>6.711000e+06</td>\n",
       "      <td>6.730000e+06</td>\n",
       "      <td>0.009603</td>\n",
       "      <td>9.133396e+04</td>\n",
       "      <td>6.728000e+06</td>\n",
       "      <td>-0.015813</td>\n",
       "    </tr>\n",
       "    <tr>\n",
       "      <th>25%</th>\n",
       "      <td>8.870000e+06</td>\n",
       "      <td>8.879000e+06</td>\n",
       "      <td>8.858000e+06</td>\n",
       "      <td>8.868000e+06</td>\n",
       "      <td>5.749920</td>\n",
       "      <td>5.667632e+07</td>\n",
       "      <td>8.867750e+06</td>\n",
       "      <td>-0.000321</td>\n",
       "    </tr>\n",
       "    <tr>\n",
       "      <th>50%</th>\n",
       "      <td>1.003300e+07</td>\n",
       "      <td>1.004000e+07</td>\n",
       "      <td>1.002700e+07</td>\n",
       "      <td>1.003500e+07</td>\n",
       "      <td>11.140354</td>\n",
       "      <td>1.162754e+08</td>\n",
       "      <td>1.003325e+07</td>\n",
       "      <td>0.000155</td>\n",
       "    </tr>\n",
       "    <tr>\n",
       "      <th>75%</th>\n",
       "      <td>1.252600e+07</td>\n",
       "      <td>1.253600e+07</td>\n",
       "      <td>1.251900e+07</td>\n",
       "      <td>1.252500e+07</td>\n",
       "      <td>21.387008</td>\n",
       "      <td>2.478807e+08</td>\n",
       "      <td>1.252725e+07</td>\n",
       "      <td>0.000740</td>\n",
       "    </tr>\n",
       "    <tr>\n",
       "      <th>max</th>\n",
       "      <td>2.710100e+07</td>\n",
       "      <td>2.721000e+07</td>\n",
       "      <td>2.710100e+07</td>\n",
       "      <td>2.718700e+07</td>\n",
       "      <td>534.966763</td>\n",
       "      <td>8.233700e+09</td>\n",
       "      <td>2.714975e+07</td>\n",
       "      <td>0.050655</td>\n",
       "    </tr>\n",
       "  </tbody>\n",
       "</table>\n",
       "</div>"
      ],
      "text/plain": [
       "               open          high           low         close        volume  \\\n",
       "count  1.940100e+04  1.940100e+04  1.940100e+04  1.940100e+04  19401.000000   \n",
       "mean   1.133138e+07  1.134520e+07  1.131817e+07  1.133229e+07     16.997496   \n",
       "std    3.830480e+06  3.838547e+06  3.823268e+06  3.831529e+06     19.572755   \n",
       "min    6.730000e+06  6.741000e+06  6.711000e+06  6.730000e+06      0.009603   \n",
       "25%    8.870000e+06  8.879000e+06  8.858000e+06  8.868000e+06      5.749920   \n",
       "50%    1.003300e+07  1.004000e+07  1.002700e+07  1.003500e+07     11.140354   \n",
       "75%    1.252600e+07  1.253600e+07  1.251900e+07  1.252500e+07     21.387008   \n",
       "max    2.710100e+07  2.721000e+07  2.710100e+07  2.718700e+07    534.966763   \n",
       "\n",
       "       volume_amount         price      log_diff  \n",
       "count   1.940100e+04  1.940100e+04  19401.000000  \n",
       "mean    2.085954e+08  1.133176e+07      0.000289  \n",
       "std     2.810273e+08  3.830922e+06      0.001596  \n",
       "min     9.133396e+04  6.728000e+06     -0.015813  \n",
       "25%     5.667632e+07  8.867750e+06     -0.000321  \n",
       "50%     1.162754e+08  1.003325e+07      0.000155  \n",
       "75%     2.478807e+08  1.252725e+07      0.000740  \n",
       "max     8.233700e+09  2.714975e+07      0.050655  "
      ]
     },
     "execution_count": 182,
     "metadata": {},
     "output_type": "execute_result"
    }
   ],
   "source": [
    "forward[condition].describe()"
   ]
  },
  {
   "cell_type": "code",
   "execution_count": 183,
   "metadata": {},
   "outputs": [
    {
     "data": {
      "text/plain": [
       "0.5825988351115922"
      ]
     },
     "execution_count": 183,
     "metadata": {},
     "output_type": "execute_result"
    }
   ],
   "source": [
    "len(forward[(forward.log_diff > 0)&condition])/len(forward[condition])"
   ]
  },
  {
   "cell_type": "code",
   "execution_count": 184,
   "metadata": {},
   "outputs": [
    {
     "data": {
      "text/plain": [
       "0.015411576722849337"
      ]
     },
     "execution_count": 184,
     "metadata": {},
     "output_type": "execute_result"
    }
   ],
   "source": [
    "len(forward[(forward.log_diff == 0)&condition])/len(forward[condition])"
   ]
  },
  {
   "cell_type": "code",
   "execution_count": 185,
   "metadata": {},
   "outputs": [
    {
     "data": {
      "text/plain": [
       "0.40198958816555846"
      ]
     },
     "execution_count": 185,
     "metadata": {},
     "output_type": "execute_result"
    }
   ],
   "source": [
    "len(forward[(forward.log_diff < 0)&condition])/len(forward[condition])"
   ]
  },
  {
   "cell_type": "code",
   "execution_count": 186,
   "metadata": {},
   "outputs": [
    {
     "data": {
      "text/plain": [
       "1.3153721150834676"
      ]
     },
     "execution_count": 186,
     "metadata": {},
     "output_type": "execute_result"
    }
   ],
   "source": [
    "# 손익비\n",
    "(forward[(forward.log_diff > 0)&condition].mean()/abs(forward[(forward.log_diff < 0)&condition].mean())).log_diff"
   ]
  },
  {
   "cell_type": "markdown",
   "metadata": {},
   "source": [
    "**3분전 하락, 2분 연속 상승시 1분후 상승확률**\n",
    "\n",
    "- 2018년 1월 6일 이전: 53.18% (기본: 48.73%)\n",
    "- 2018년 1월 6일 이후: 58.26% (기본: 49.52%)\n",
    "\n",
    "**3분전 하락, 2분 연속 상승시 하락확률**\n",
    "\n",
    "- 2018년 1월 6일 이전: 43.06% (기본: 46.05%)\n",
    "- 2018년 1월 6일 이후: 40.20% (기본: 48.93%)\n",
    "\n",
    "**3분전 하락, 2분 연속 상승시 손익비**\n",
    "\n",
    "- 2018년 1월 6일 이전: 72..03% (기본: 96.27%)\n",
    "- 2018년 1월 6일 이후: 131.53% (기본: 97.54%)"
   ]
  },
  {
   "cell_type": "markdown",
   "metadata": {},
   "source": [
    "#### 자동화 하자!\n",
    "\n",
    "중복을 피하기 위해 t-1시점엔 하락, t시점부터 연속으로 상승한 경우만 테스트"
   ]
  },
  {
   "cell_type": "markdown",
   "metadata": {},
   "source": [
    "#### 연속 상승"
   ]
  },
  {
   "cell_type": "code",
   "execution_count": 315,
   "metadata": {},
   "outputs": [],
   "source": [
    "prev_exprs = []\n",
    "for i in range(60):\n",
    "    expr = '(prev.log_diff.shift({}) > 0)'.format(1)\n",
    "    for j in range(i):\n",
    "        if j == len(range(i))-1:\n",
    "            expr += '&' + '(prev.log_diff.shift({}) < 0)'.format(j+2)\n",
    "        else:\n",
    "            expr += '&' + '(prev.log_diff.shift({}) > 0)'.format(j+2)\n",
    "    if i == 0:\n",
    "        expr += '&' + '(prev.log_diff.shift(2) < 0)'\n",
    "    prev_exprs.append(expr)\n",
    "prev_exprs = prev_exprs[1:]"
   ]
  },
  {
   "cell_type": "code",
   "execution_count": 316,
   "metadata": {},
   "outputs": [],
   "source": [
    "forward_exprs = []\n",
    "for i in range(60):\n",
    "    expr = '(forward.log_diff.shift({}) > 0)'.format(1)\n",
    "    for j in range(i):\n",
    "        if j == len(range(i))-1:\n",
    "            expr += '&' + '(forward.log_diff.shift({}) < 0)'.format(j+2)\n",
    "        else:\n",
    "            expr += '&' + '(forward.log_diff.shift({}) > 0)'.format(j+2)\n",
    "    if i == 0:\n",
    "        expr += '&' + '(prev.log_diff.shift(2) < 0)'\n",
    "    forward_exprs.append(expr)\n",
    "forward_exprs = forward_exprs[1:]"
   ]
  },
  {
   "cell_type": "code",
   "execution_count": 317,
   "metadata": {},
   "outputs": [],
   "source": [
    "def exprs_generator(exprs,df):\n",
    "    for i, expr in enumerate(exprs):\n",
    "        condition = eval(expr)\n",
    "        stats = df.loc[condition].log_diff.describe().to_dict()\n",
    "        stats['prob'] = len(df[condition])/len(df)\n",
    "        stats['expr'] = i+1\n",
    "        try:\n",
    "            stats['up'] = len(df[(df.log_diff > 0)&condition])/len(df[condition])\n",
    "            stats['same'] = len(df[(df.log_diff == 0)&condition])/len(df[condition])\n",
    "            stats['down'] = len(df[(df.log_diff < 0)&condition])/len(df[condition])\n",
    "            stats['profit-to-loss'] = (df[(df.log_diff > 0)&condition].mean()/abs(df[(df.log_diff < 0)&condition].mean())).log_diff\n",
    "            stats['perf'] = stats['up'] * stats['profit-to-loss']\n",
    "        except ZeroDivisionError:\n",
    "            stats['up'] = np.nan\n",
    "            stats['same']=np.nan\n",
    "            stats['down']=np.nan\n",
    "            stats['profit-to-loss']=np.nan\n",
    "        yield stats"
   ]
  },
  {
   "cell_type": "code",
   "execution_count": 318,
   "metadata": {},
   "outputs": [],
   "source": [
    "prev_df = pd.DataFrame(exprs_generator(prev_exprs, prev))"
   ]
  },
  {
   "cell_type": "code",
   "execution_count": 319,
   "metadata": {
    "collapsed": true
   },
   "outputs": [],
   "source": [
    "prev_df.set_index('expr', inplace=True)"
   ]
  },
  {
   "cell_type": "code",
   "execution_count": 320,
   "metadata": {},
   "outputs": [],
   "source": [
    "forward_df = pd.DataFrame(exprs_generator(forward_exprs, forward))"
   ]
  },
  {
   "cell_type": "code",
   "execution_count": 321,
   "metadata": {
    "collapsed": true
   },
   "outputs": [],
   "source": [
    "forward_df.set_index('expr', inplace=True)"
   ]
  },
  {
   "cell_type": "code",
   "execution_count": 322,
   "metadata": {},
   "outputs": [],
   "source": [
    "prev_df = prev_df[['count', 'prob', '50%', 'mean', 'max', 'min', 'up', 'down', 'same','profit-to-loss','perf']]"
   ]
  },
  {
   "cell_type": "code",
   "execution_count": 323,
   "metadata": {
    "collapsed": true
   },
   "outputs": [],
   "source": [
    "forward_df = forward_df[['count', 'prob', '50%', 'mean', 'max', 'min', 'up', 'down', 'same','profit-to-loss','perf']]"
   ]
  },
  {
   "cell_type": "code",
   "execution_count": 324,
   "metadata": {},
   "outputs": [],
   "source": [
    "prev_df = prev_df[prev_df['prob'] > 0.01]\n",
    "forward_df = forward_df[forward_df['prob'] > 0.01]"
   ]
  },
  {
   "cell_type": "code",
   "execution_count": 325,
   "metadata": {},
   "outputs": [
    {
     "data": {
      "text/html": [
       "<div>\n",
       "<style>\n",
       "    .dataframe thead tr:only-child th {\n",
       "        text-align: right;\n",
       "    }\n",
       "\n",
       "    .dataframe thead th {\n",
       "        text-align: left;\n",
       "    }\n",
       "\n",
       "    .dataframe tbody tr th {\n",
       "        vertical-align: top;\n",
       "    }\n",
       "</style>\n",
       "<table border=\"1\" class=\"dataframe\">\n",
       "  <thead>\n",
       "    <tr style=\"text-align: right;\">\n",
       "      <th></th>\n",
       "      <th>count</th>\n",
       "      <th>prob</th>\n",
       "      <th>50%</th>\n",
       "      <th>mean</th>\n",
       "      <th>max</th>\n",
       "      <th>min</th>\n",
       "      <th>up</th>\n",
       "      <th>down</th>\n",
       "      <th>same</th>\n",
       "      <th>profit-to-loss</th>\n",
       "      <th>perf</th>\n",
       "    </tr>\n",
       "    <tr>\n",
       "      <th>expr</th>\n",
       "      <th></th>\n",
       "      <th></th>\n",
       "      <th></th>\n",
       "      <th></th>\n",
       "      <th></th>\n",
       "      <th></th>\n",
       "      <th></th>\n",
       "      <th></th>\n",
       "      <th></th>\n",
       "      <th></th>\n",
       "      <th></th>\n",
       "    </tr>\n",
       "  </thead>\n",
       "  <tbody>\n",
       "    <tr>\n",
       "      <th>1</th>\n",
       "      <td>26400.0</td>\n",
       "      <td>0.195654</td>\n",
       "      <td>0.000087</td>\n",
       "      <td>0.000015</td>\n",
       "      <td>0.035063</td>\n",
       "      <td>-0.107021</td>\n",
       "      <td>0.537689</td>\n",
       "      <td>0.411061</td>\n",
       "      <td>0.051250</td>\n",
       "      <td>0.779337</td>\n",
       "      <td>0.419041</td>\n",
       "    </tr>\n",
       "    <tr>\n",
       "      <th>2</th>\n",
       "      <td>14195.0</td>\n",
       "      <td>0.105201</td>\n",
       "      <td>0.000063</td>\n",
       "      <td>-0.000082</td>\n",
       "      <td>0.028252</td>\n",
       "      <td>-0.020334</td>\n",
       "      <td>0.531807</td>\n",
       "      <td>0.430574</td>\n",
       "      <td>0.037619</td>\n",
       "      <td>0.720340</td>\n",
       "      <td>0.383082</td>\n",
       "    </tr>\n",
       "    <tr>\n",
       "      <th>3</th>\n",
       "      <td>7549.0</td>\n",
       "      <td>0.055947</td>\n",
       "      <td>0.000164</td>\n",
       "      <td>0.000192</td>\n",
       "      <td>0.025931</td>\n",
       "      <td>-0.021716</td>\n",
       "      <td>0.590277</td>\n",
       "      <td>0.381110</td>\n",
       "      <td>0.028613</td>\n",
       "      <td>0.867658</td>\n",
       "      <td>0.512158</td>\n",
       "    </tr>\n",
       "    <tr>\n",
       "      <th>4</th>\n",
       "      <td>4456.0</td>\n",
       "      <td>0.033024</td>\n",
       "      <td>0.000217</td>\n",
       "      <td>0.000375</td>\n",
       "      <td>0.031996</td>\n",
       "      <td>-0.020226</td>\n",
       "      <td>0.621185</td>\n",
       "      <td>0.353905</td>\n",
       "      <td>0.024910</td>\n",
       "      <td>1.059382</td>\n",
       "      <td>0.658072</td>\n",
       "    </tr>\n",
       "    <tr>\n",
       "      <th>5</th>\n",
       "      <td>2768.0</td>\n",
       "      <td>0.020514</td>\n",
       "      <td>0.000241</td>\n",
       "      <td>0.000422</td>\n",
       "      <td>0.020978</td>\n",
       "      <td>-0.030176</td>\n",
       "      <td>0.637283</td>\n",
       "      <td>0.342486</td>\n",
       "      <td>0.020231</td>\n",
       "      <td>1.076709</td>\n",
       "      <td>0.686168</td>\n",
       "    </tr>\n",
       "    <tr>\n",
       "      <th>6</th>\n",
       "      <td>1764.0</td>\n",
       "      <td>0.013073</td>\n",
       "      <td>0.000245</td>\n",
       "      <td>0.000319</td>\n",
       "      <td>0.016603</td>\n",
       "      <td>-0.016645</td>\n",
       "      <td>0.637188</td>\n",
       "      <td>0.346939</td>\n",
       "      <td>0.015873</td>\n",
       "      <td>0.888903</td>\n",
       "      <td>0.566398</td>\n",
       "    </tr>\n",
       "  </tbody>\n",
       "</table>\n",
       "</div>"
      ],
      "text/plain": [
       "        count      prob       50%      mean       max       min        up  \\\n",
       "expr                                                                        \n",
       "1     26400.0  0.195654  0.000087  0.000015  0.035063 -0.107021  0.537689   \n",
       "2     14195.0  0.105201  0.000063 -0.000082  0.028252 -0.020334  0.531807   \n",
       "3      7549.0  0.055947  0.000164  0.000192  0.025931 -0.021716  0.590277   \n",
       "4      4456.0  0.033024  0.000217  0.000375  0.031996 -0.020226  0.621185   \n",
       "5      2768.0  0.020514  0.000241  0.000422  0.020978 -0.030176  0.637283   \n",
       "6      1764.0  0.013073  0.000245  0.000319  0.016603 -0.016645  0.637188   \n",
       "\n",
       "          down      same  profit-to-loss      perf  \n",
       "expr                                                \n",
       "1     0.411061  0.051250        0.779337  0.419041  \n",
       "2     0.430574  0.037619        0.720340  0.383082  \n",
       "3     0.381110  0.028613        0.867658  0.512158  \n",
       "4     0.353905  0.024910        1.059382  0.658072  \n",
       "5     0.342486  0.020231        1.076709  0.686168  \n",
       "6     0.346939  0.015873        0.888903  0.566398  "
      ]
     },
     "execution_count": 325,
     "metadata": {},
     "output_type": "execute_result"
    }
   ],
   "source": [
    "prev_df"
   ]
  },
  {
   "cell_type": "code",
   "execution_count": 326,
   "metadata": {},
   "outputs": [
    {
     "data": {
      "text/html": [
       "<div>\n",
       "<style>\n",
       "    .dataframe thead tr:only-child th {\n",
       "        text-align: right;\n",
       "    }\n",
       "\n",
       "    .dataframe thead th {\n",
       "        text-align: left;\n",
       "    }\n",
       "\n",
       "    .dataframe tbody tr th {\n",
       "        vertical-align: top;\n",
       "    }\n",
       "</style>\n",
       "<table border=\"1\" class=\"dataframe\">\n",
       "  <thead>\n",
       "    <tr style=\"text-align: right;\">\n",
       "      <th></th>\n",
       "      <th>count</th>\n",
       "      <th>prob</th>\n",
       "      <th>50%</th>\n",
       "      <th>mean</th>\n",
       "      <th>max</th>\n",
       "      <th>min</th>\n",
       "      <th>up</th>\n",
       "      <th>down</th>\n",
       "      <th>same</th>\n",
       "      <th>profit-to-loss</th>\n",
       "      <th>perf</th>\n",
       "    </tr>\n",
       "    <tr>\n",
       "      <th>expr</th>\n",
       "      <th></th>\n",
       "      <th></th>\n",
       "      <th></th>\n",
       "      <th></th>\n",
       "      <th></th>\n",
       "      <th></th>\n",
       "      <th></th>\n",
       "      <th></th>\n",
       "      <th></th>\n",
       "      <th></th>\n",
       "      <th></th>\n",
       "    </tr>\n",
       "  </thead>\n",
       "  <tbody>\n",
       "    <tr>\n",
       "      <th>1</th>\n",
       "      <td>28718.0</td>\n",
       "      <td>0.178864</td>\n",
       "      <td>0.000310</td>\n",
       "      <td>0.000522</td>\n",
       "      <td>0.036130</td>\n",
       "      <td>-0.013766</td>\n",
       "      <td>0.675569</td>\n",
       "      <td>0.310258</td>\n",
       "      <td>0.014172</td>\n",
       "      <td>1.585357</td>\n",
       "      <td>1.071019</td>\n",
       "    </tr>\n",
       "    <tr>\n",
       "      <th>2</th>\n",
       "      <td>19401.0</td>\n",
       "      <td>0.120835</td>\n",
       "      <td>0.000155</td>\n",
       "      <td>0.000289</td>\n",
       "      <td>0.050655</td>\n",
       "      <td>-0.015813</td>\n",
       "      <td>0.582599</td>\n",
       "      <td>0.401990</td>\n",
       "      <td>0.015412</td>\n",
       "      <td>1.315372</td>\n",
       "      <td>0.766334</td>\n",
       "    </tr>\n",
       "    <tr>\n",
       "      <th>3</th>\n",
       "      <td>11303.0</td>\n",
       "      <td>0.070398</td>\n",
       "      <td>0.000203</td>\n",
       "      <td>0.000376</td>\n",
       "      <td>0.036825</td>\n",
       "      <td>-0.012548</td>\n",
       "      <td>0.612935</td>\n",
       "      <td>0.372556</td>\n",
       "      <td>0.014509</td>\n",
       "      <td>1.400015</td>\n",
       "      <td>0.858118</td>\n",
       "    </tr>\n",
       "    <tr>\n",
       "      <th>4</th>\n",
       "      <td>6928.0</td>\n",
       "      <td>0.043150</td>\n",
       "      <td>0.000165</td>\n",
       "      <td>0.000288</td>\n",
       "      <td>0.018903</td>\n",
       "      <td>-0.023054</td>\n",
       "      <td>0.584729</td>\n",
       "      <td>0.399538</td>\n",
       "      <td>0.015733</td>\n",
       "      <td>1.268761</td>\n",
       "      <td>0.741881</td>\n",
       "    </tr>\n",
       "    <tr>\n",
       "      <th>5</th>\n",
       "      <td>4051.0</td>\n",
       "      <td>0.025231</td>\n",
       "      <td>0.000169</td>\n",
       "      <td>0.000323</td>\n",
       "      <td>0.021767</td>\n",
       "      <td>-0.012314</td>\n",
       "      <td>0.593681</td>\n",
       "      <td>0.390027</td>\n",
       "      <td>0.016292</td>\n",
       "      <td>1.299409</td>\n",
       "      <td>0.771434</td>\n",
       "    </tr>\n",
       "    <tr>\n",
       "      <th>6</th>\n",
       "      <td>2405.0</td>\n",
       "      <td>0.014979</td>\n",
       "      <td>0.000180</td>\n",
       "      <td>0.000333</td>\n",
       "      <td>0.023306</td>\n",
       "      <td>-0.015786</td>\n",
       "      <td>0.594179</td>\n",
       "      <td>0.390852</td>\n",
       "      <td>0.014969</td>\n",
       "      <td>1.296558</td>\n",
       "      <td>0.770387</td>\n",
       "    </tr>\n",
       "  </tbody>\n",
       "</table>\n",
       "</div>"
      ],
      "text/plain": [
       "        count      prob       50%      mean       max       min        up  \\\n",
       "expr                                                                        \n",
       "1     28718.0  0.178864  0.000310  0.000522  0.036130 -0.013766  0.675569   \n",
       "2     19401.0  0.120835  0.000155  0.000289  0.050655 -0.015813  0.582599   \n",
       "3     11303.0  0.070398  0.000203  0.000376  0.036825 -0.012548  0.612935   \n",
       "4      6928.0  0.043150  0.000165  0.000288  0.018903 -0.023054  0.584729   \n",
       "5      4051.0  0.025231  0.000169  0.000323  0.021767 -0.012314  0.593681   \n",
       "6      2405.0  0.014979  0.000180  0.000333  0.023306 -0.015786  0.594179   \n",
       "\n",
       "          down      same  profit-to-loss      perf  \n",
       "expr                                                \n",
       "1     0.310258  0.014172        1.585357  1.071019  \n",
       "2     0.401990  0.015412        1.315372  0.766334  \n",
       "3     0.372556  0.014509        1.400015  0.858118  \n",
       "4     0.399538  0.015733        1.268761  0.741881  \n",
       "5     0.390027  0.016292        1.299409  0.771434  \n",
       "6     0.390852  0.014969        1.296558  0.770387  "
      ]
     },
     "execution_count": 326,
     "metadata": {},
     "output_type": "execute_result"
    }
   ],
   "source": [
    "forward_df"
   ]
  },
  {
   "cell_type": "markdown",
   "metadata": {},
   "source": [
    "#### 연속 하락"
   ]
  },
  {
   "cell_type": "code",
   "execution_count": 298,
   "metadata": {
    "collapsed": true
   },
   "outputs": [],
   "source": [
    "prev_exprs = []\n",
    "for i in range(60):\n",
    "    expr = '(prev.log_diff.shift({}) < 0)'.format(1)\n",
    "    for j in range(i):\n",
    "        if j == len(range(i))-1:\n",
    "            expr += '&' + '(prev.log_diff.shift({}) > 0)'.format(j+2)\n",
    "        else:\n",
    "            expr += '&' + '(prev.log_diff.shift({}) < 0)'.format(j+2)\n",
    "    if i == 0:\n",
    "        expr += '&' + '(prev.log_diff.shift(2) > 0)'\n",
    "    prev_exprs.append(expr)\n",
    "prev_exprs = prev_exprs[1:]"
   ]
  },
  {
   "cell_type": "code",
   "execution_count": 299,
   "metadata": {
    "collapsed": true
   },
   "outputs": [],
   "source": [
    "forward_exprs = []\n",
    "for i in range(60):\n",
    "    expr = '(forward.log_diff.shift({}) < 0)'.format(1)\n",
    "    for j in range(i):\n",
    "        if j == len(range(i))-1:\n",
    "            expr += '&' + '(forward.log_diff.shift({}) > 0)'.format(j+2)\n",
    "        else:\n",
    "            expr += '&' + '(forward.log_diff.shift({}) < 0)'.format(j+2)\n",
    "    if i == 0:\n",
    "        expr += '&' + '(prev.log_diff.shift(2) > 0)'\n",
    "    forward_exprs.append(expr)\n",
    "forward_exprs = forward_exprs[1:]"
   ]
  },
  {
   "cell_type": "code",
   "execution_count": 300,
   "metadata": {
    "collapsed": true
   },
   "outputs": [],
   "source": [
    "def exprs_generator(exprs,df):\n",
    "    for i, expr in enumerate(exprs):\n",
    "        condition = eval(expr)\n",
    "        stats = df.loc[condition].log_diff.describe().to_dict()\n",
    "        stats['prob'] = len(df[condition])/len(df)\n",
    "        stats['expr'] = i+1\n",
    "        try:\n",
    "            stats['up'] = len(df[(df.log_diff > 0)&condition])/len(df[condition])\n",
    "            stats['same'] = len(df[(df.log_diff == 0)&condition])/len(df[condition])\n",
    "            stats['down'] = len(df[(df.log_diff < 0)&condition])/len(df[condition])\n",
    "            stats['profit-to-loss'] = (df[(df.log_diff > 0)&condition].mean()/abs(df[(df.log_diff < 0)&condition].mean())).log_diff\n",
    "            stats['perf'] = stats['up'] * stats['profit-to-loss']\n",
    "        except ZeroDivisionError:\n",
    "            stats['up'] = np.nan\n",
    "            stats['same']=np.nan\n",
    "            stats['down']=np.nan\n",
    "            stats['profit-to-loss']=np.nan\n",
    "        yield stats"
   ]
  },
  {
   "cell_type": "code",
   "execution_count": 301,
   "metadata": {
    "collapsed": true
   },
   "outputs": [],
   "source": [
    "prev_df_down = pd.DataFrame(exprs_generator(prev_exprs, prev))"
   ]
  },
  {
   "cell_type": "code",
   "execution_count": 302,
   "metadata": {
    "collapsed": true
   },
   "outputs": [],
   "source": [
    "prev_df_down.set_index('expr', inplace=True)"
   ]
  },
  {
   "cell_type": "code",
   "execution_count": 303,
   "metadata": {
    "collapsed": true
   },
   "outputs": [],
   "source": [
    "forward_df_down = pd.DataFrame(exprs_generator(forward_exprs, forward))"
   ]
  },
  {
   "cell_type": "code",
   "execution_count": 304,
   "metadata": {
    "collapsed": true
   },
   "outputs": [],
   "source": [
    "forward_df_down.set_index('expr', inplace=True)"
   ]
  },
  {
   "cell_type": "code",
   "execution_count": 305,
   "metadata": {
    "collapsed": true
   },
   "outputs": [],
   "source": [
    "prev_df_down = prev_df_down[['count', 'prob', '50%', 'mean', 'max', 'min', 'up', 'down', 'same','profit-to-loss','perf']]"
   ]
  },
  {
   "cell_type": "code",
   "execution_count": 306,
   "metadata": {
    "collapsed": true
   },
   "outputs": [],
   "source": [
    "forward_df_down = forward_df_down[['count', 'prob', '50%', 'mean', 'max', 'min', 'up', 'down', 'same','profit-to-loss','perf']]"
   ]
  },
  {
   "cell_type": "code",
   "execution_count": 307,
   "metadata": {
    "collapsed": true
   },
   "outputs": [],
   "source": [
    "prev_df_down = prev_df_down[prev_df_down['prob'] > 0.01]\n",
    "forward_df_down = forward_df_down[forward_df_down['prob'] > 0.01]"
   ]
  },
  {
   "cell_type": "code",
   "execution_count": 308,
   "metadata": {},
   "outputs": [
    {
     "data": {
      "text/html": [
       "<div>\n",
       "<style>\n",
       "    .dataframe thead tr:only-child th {\n",
       "        text-align: right;\n",
       "    }\n",
       "\n",
       "    .dataframe thead th {\n",
       "        text-align: left;\n",
       "    }\n",
       "\n",
       "    .dataframe tbody tr th {\n",
       "        vertical-align: top;\n",
       "    }\n",
       "</style>\n",
       "<table border=\"1\" class=\"dataframe\">\n",
       "  <thead>\n",
       "    <tr style=\"text-align: right;\">\n",
       "      <th></th>\n",
       "      <th>count</th>\n",
       "      <th>prob</th>\n",
       "      <th>50%</th>\n",
       "      <th>mean</th>\n",
       "      <th>max</th>\n",
       "      <th>min</th>\n",
       "      <th>up</th>\n",
       "      <th>down</th>\n",
       "      <th>same</th>\n",
       "      <th>profit-to-loss</th>\n",
       "      <th>perf</th>\n",
       "    </tr>\n",
       "    <tr>\n",
       "      <th>expr</th>\n",
       "      <th></th>\n",
       "      <th></th>\n",
       "      <th></th>\n",
       "      <th></th>\n",
       "      <th></th>\n",
       "      <th></th>\n",
       "      <th></th>\n",
       "      <th></th>\n",
       "      <th></th>\n",
       "      <th></th>\n",
       "      <th></th>\n",
       "    </tr>\n",
       "  </thead>\n",
       "  <tbody>\n",
       "    <tr>\n",
       "      <th>1</th>\n",
       "      <td>26271.0</td>\n",
       "      <td>0.194698</td>\n",
       "      <td>-0.000083</td>\n",
       "      <td>-0.000021</td>\n",
       "      <td>0.100611</td>\n",
       "      <td>-0.076476</td>\n",
       "      <td>0.415629</td>\n",
       "      <td>0.536104</td>\n",
       "      <td>0.048266</td>\n",
       "      <td>1.255792</td>\n",
       "      <td>0.521944</td>\n",
       "    </tr>\n",
       "    <tr>\n",
       "      <th>2</th>\n",
       "      <td>14084.0</td>\n",
       "      <td>0.104379</td>\n",
       "      <td>-0.000045</td>\n",
       "      <td>0.000081</td>\n",
       "      <td>0.036830</td>\n",
       "      <td>-0.054562</td>\n",
       "      <td>0.447884</td>\n",
       "      <td>0.518674</td>\n",
       "      <td>0.033442</td>\n",
       "      <td>1.292738</td>\n",
       "      <td>0.578997</td>\n",
       "    </tr>\n",
       "    <tr>\n",
       "      <th>3</th>\n",
       "      <td>7305.0</td>\n",
       "      <td>0.054138</td>\n",
       "      <td>-0.000104</td>\n",
       "      <td>-0.000097</td>\n",
       "      <td>0.064469</td>\n",
       "      <td>-0.028204</td>\n",
       "      <td>0.421355</td>\n",
       "      <td>0.553320</td>\n",
       "      <td>0.025325</td>\n",
       "      <td>1.139021</td>\n",
       "      <td>0.479932</td>\n",
       "    </tr>\n",
       "    <tr>\n",
       "      <th>4</th>\n",
       "      <td>4042.0</td>\n",
       "      <td>0.029956</td>\n",
       "      <td>-0.000150</td>\n",
       "      <td>-0.000287</td>\n",
       "      <td>0.015785</td>\n",
       "      <td>-0.026903</td>\n",
       "      <td>0.405987</td>\n",
       "      <td>0.573726</td>\n",
       "      <td>0.020287</td>\n",
       "      <td>0.918686</td>\n",
       "      <td>0.372975</td>\n",
       "    </tr>\n",
       "    <tr>\n",
       "      <th>5</th>\n",
       "      <td>2319.0</td>\n",
       "      <td>0.017186</td>\n",
       "      <td>-0.000137</td>\n",
       "      <td>-0.000370</td>\n",
       "      <td>0.024209</td>\n",
       "      <td>-0.034608</td>\n",
       "      <td>0.412247</td>\n",
       "      <td>0.570936</td>\n",
       "      <td>0.016818</td>\n",
       "      <td>0.806376</td>\n",
       "      <td>0.332426</td>\n",
       "    </tr>\n",
       "  </tbody>\n",
       "</table>\n",
       "</div>"
      ],
      "text/plain": [
       "        count      prob       50%      mean       max       min        up  \\\n",
       "expr                                                                        \n",
       "1     26271.0  0.194698 -0.000083 -0.000021  0.100611 -0.076476  0.415629   \n",
       "2     14084.0  0.104379 -0.000045  0.000081  0.036830 -0.054562  0.447884   \n",
       "3      7305.0  0.054138 -0.000104 -0.000097  0.064469 -0.028204  0.421355   \n",
       "4      4042.0  0.029956 -0.000150 -0.000287  0.015785 -0.026903  0.405987   \n",
       "5      2319.0  0.017186 -0.000137 -0.000370  0.024209 -0.034608  0.412247   \n",
       "\n",
       "          down      same  profit-to-loss      perf  \n",
       "expr                                                \n",
       "1     0.536104  0.048266        1.255792  0.521944  \n",
       "2     0.518674  0.033442        1.292738  0.578997  \n",
       "3     0.553320  0.025325        1.139021  0.479932  \n",
       "4     0.573726  0.020287        0.918686  0.372975  \n",
       "5     0.570936  0.016818        0.806376  0.332426  "
      ]
     },
     "execution_count": 308,
     "metadata": {},
     "output_type": "execute_result"
    }
   ],
   "source": [
    "prev_df_down"
   ]
  },
  {
   "cell_type": "code",
   "execution_count": 309,
   "metadata": {},
   "outputs": [
    {
     "data": {
      "text/html": [
       "<div>\n",
       "<style>\n",
       "    .dataframe thead tr:only-child th {\n",
       "        text-align: right;\n",
       "    }\n",
       "\n",
       "    .dataframe thead th {\n",
       "        text-align: left;\n",
       "    }\n",
       "\n",
       "    .dataframe tbody tr th {\n",
       "        vertical-align: top;\n",
       "    }\n",
       "</style>\n",
       "<table border=\"1\" class=\"dataframe\">\n",
       "  <thead>\n",
       "    <tr style=\"text-align: right;\">\n",
       "      <th></th>\n",
       "      <th>count</th>\n",
       "      <th>prob</th>\n",
       "      <th>50%</th>\n",
       "      <th>mean</th>\n",
       "      <th>max</th>\n",
       "      <th>min</th>\n",
       "      <th>up</th>\n",
       "      <th>down</th>\n",
       "      <th>same</th>\n",
       "      <th>profit-to-loss</th>\n",
       "      <th>perf</th>\n",
       "    </tr>\n",
       "    <tr>\n",
       "      <th>expr</th>\n",
       "      <th></th>\n",
       "      <th></th>\n",
       "      <th></th>\n",
       "      <th></th>\n",
       "      <th></th>\n",
       "      <th></th>\n",
       "      <th></th>\n",
       "      <th></th>\n",
       "      <th></th>\n",
       "      <th></th>\n",
       "      <th></th>\n",
       "    </tr>\n",
       "  </thead>\n",
       "  <tbody>\n",
       "    <tr>\n",
       "      <th>1</th>\n",
       "      <td>28767.0</td>\n",
       "      <td>0.179169</td>\n",
       "      <td>-0.000312</td>\n",
       "      <td>-0.000538</td>\n",
       "      <td>0.016354</td>\n",
       "      <td>-0.039469</td>\n",
       "      <td>0.310251</td>\n",
       "      <td>0.672715</td>\n",
       "      <td>0.017033</td>\n",
       "      <td>0.603820</td>\n",
       "      <td>0.187336</td>\n",
       "    </tr>\n",
       "    <tr>\n",
       "      <th>2</th>\n",
       "      <td>19352.0</td>\n",
       "      <td>0.120530</td>\n",
       "      <td>-0.000149</td>\n",
       "      <td>-0.000270</td>\n",
       "      <td>0.021039</td>\n",
       "      <td>-0.036741</td>\n",
       "      <td>0.404248</td>\n",
       "      <td>0.579733</td>\n",
       "      <td>0.016019</td>\n",
       "      <td>0.788178</td>\n",
       "      <td>0.318619</td>\n",
       "    </tr>\n",
       "    <tr>\n",
       "      <th>3</th>\n",
       "      <td>11219.0</td>\n",
       "      <td>0.069875</td>\n",
       "      <td>-0.000180</td>\n",
       "      <td>-0.000354</td>\n",
       "      <td>0.016768</td>\n",
       "      <td>-0.021984</td>\n",
       "      <td>0.389429</td>\n",
       "      <td>0.597736</td>\n",
       "      <td>0.012835</td>\n",
       "      <td>0.715636</td>\n",
       "      <td>0.278689</td>\n",
       "    </tr>\n",
       "    <tr>\n",
       "      <th>4</th>\n",
       "      <td>6706.0</td>\n",
       "      <td>0.041767</td>\n",
       "      <td>-0.000179</td>\n",
       "      <td>-0.000371</td>\n",
       "      <td>0.018008</td>\n",
       "      <td>-0.019449</td>\n",
       "      <td>0.397256</td>\n",
       "      <td>0.592455</td>\n",
       "      <td>0.010289</td>\n",
       "      <td>0.703031</td>\n",
       "      <td>0.279283</td>\n",
       "    </tr>\n",
       "    <tr>\n",
       "      <th>5</th>\n",
       "      <td>3973.0</td>\n",
       "      <td>0.024745</td>\n",
       "      <td>-0.000192</td>\n",
       "      <td>-0.000396</td>\n",
       "      <td>0.022364</td>\n",
       "      <td>-0.019774</td>\n",
       "      <td>0.398943</td>\n",
       "      <td>0.586459</td>\n",
       "      <td>0.014599</td>\n",
       "      <td>0.678796</td>\n",
       "      <td>0.270801</td>\n",
       "    </tr>\n",
       "    <tr>\n",
       "      <th>6</th>\n",
       "      <td>2330.0</td>\n",
       "      <td>0.014512</td>\n",
       "      <td>-0.000184</td>\n",
       "      <td>-0.000381</td>\n",
       "      <td>0.024798</td>\n",
       "      <td>-0.019090</td>\n",
       "      <td>0.407725</td>\n",
       "      <td>0.580687</td>\n",
       "      <td>0.011588</td>\n",
       "      <td>0.728926</td>\n",
       "      <td>0.297202</td>\n",
       "    </tr>\n",
       "  </tbody>\n",
       "</table>\n",
       "</div>"
      ],
      "text/plain": [
       "        count      prob       50%      mean       max       min        up  \\\n",
       "expr                                                                        \n",
       "1     28767.0  0.179169 -0.000312 -0.000538  0.016354 -0.039469  0.310251   \n",
       "2     19352.0  0.120530 -0.000149 -0.000270  0.021039 -0.036741  0.404248   \n",
       "3     11219.0  0.069875 -0.000180 -0.000354  0.016768 -0.021984  0.389429   \n",
       "4      6706.0  0.041767 -0.000179 -0.000371  0.018008 -0.019449  0.397256   \n",
       "5      3973.0  0.024745 -0.000192 -0.000396  0.022364 -0.019774  0.398943   \n",
       "6      2330.0  0.014512 -0.000184 -0.000381  0.024798 -0.019090  0.407725   \n",
       "\n",
       "          down      same  profit-to-loss      perf  \n",
       "expr                                                \n",
       "1     0.672715  0.017033        0.603820  0.187336  \n",
       "2     0.579733  0.016019        0.788178  0.318619  \n",
       "3     0.597736  0.012835        0.715636  0.278689  \n",
       "4     0.592455  0.010289        0.703031  0.279283  \n",
       "5     0.586459  0.014599        0.678796  0.270801  \n",
       "6     0.580687  0.011588        0.728926  0.297202  "
      ]
     },
     "execution_count": 309,
     "metadata": {},
     "output_type": "execute_result"
    }
   ],
   "source": [
    "forward_df_down"
   ]
  },
  {
   "cell_type": "code",
   "execution_count": null,
   "metadata": {
    "collapsed": true
   },
   "outputs": [],
   "source": []
  },
  {
   "cell_type": "code",
   "execution_count": 314,
   "metadata": {
    "scrolled": false
   },
   "outputs": [
    {
     "data": {
      "text/html": [
       "\n",
       "<div class=\"bk-root\">\n",
       "    <div class=\"bk-plotdiv\" id=\"a210cf64-6d6f-4618-a953-6a3e98d4d0c0\"></div>\n",
       "</div>"
      ]
     },
     "metadata": {},
     "output_type": "display_data"
    },
    {
     "data": {
      "application/javascript": [
       "(function(root) {\n",
       "  function embed_document(root) {\n",
       "    var docs_json = {\"51a3667a-8fab-49e1-871d-8505fd9ef460\":{\"roots\":{\"references\":[{\"attributes\":{},\"id\":\"f6d9876c-73ff-411b-ae9a-d6048b47006b\",\"type\":\"LinearScale\"},{\"attributes\":{\"line_color\":{\"value\":\"red\"},\"x\":{\"field\":\"x\"},\"y\":{\"field\":\"y\"}},\"id\":\"be88e2c3-4aa3-404c-afb0-b3076c96a1d7\",\"type\":\"Line\"},{\"attributes\":{},\"id\":\"7448fa18-483b-491d-bc44-82f67b8ddc19\",\"type\":\"PanTool\"},{\"attributes\":{\"callback\":null,\"column_names\":[\"x\",\"y\"],\"data\":{\"x\":[1,2,3,4,5,6],\"y\":{\"__ndarray__\":\"5jVKSZHR2j+AUYb5aYTYP2IVqcOZY+A/THZxH+0O5T+p9e2GF/XlP3Hiq5bvH+I/\",\"dtype\":\"float64\",\"shape\":[6]}}},\"id\":\"f4e286c0-4383-44d6-8a14-f15b744fe6f3\",\"type\":\"ColumnDataSource\"},{\"attributes\":{\"overlay\":{\"id\":\"00045656-fdf5-496e-819e-7440478e2bb9\",\"type\":\"BoxAnnotation\"}},\"id\":\"739b9f9c-7222-4d97-983b-1ce7ba9b4ead\",\"type\":\"BoxZoomTool\"},{\"attributes\":{\"axis_label\":\"Perf\",\"formatter\":{\"id\":\"6bef941b-08b4-4926-a1d2-dd5e7ba1ecb6\",\"type\":\"BasicTickFormatter\"},\"plot\":{\"id\":\"fff433d8-daa0-4c82-8c5f-38a0d7d0c6d9\",\"subtype\":\"Figure\",\"type\":\"Plot\"},\"ticker\":{\"id\":\"8313c685-2603-4d6a-8b35-34fe94fd6979\",\"type\":\"BasicTicker\"}},\"id\":\"ef8ee5cc-3eca-4be0-b053-018b8d2a70fd\",\"type\":\"LinearAxis\"},{\"attributes\":{\"line_color\":{\"value\":\"blue\"},\"x\":{\"field\":\"x\"},\"y\":{\"field\":\"y\"}},\"id\":\"5ae32e40-be2d-4a55-af6f-1d506c83c0b2\",\"type\":\"Line\"},{\"attributes\":{\"plot\":null,\"text\":\"Consecutive Up & Down\"},\"id\":\"8709ca06-c983-4bbc-93ee-05971905c2ab\",\"type\":\"Title\"},{\"attributes\":{\"callback\":null},\"id\":\"71f8fa4c-1046-405c-97d7-ee58ffefdb90\",\"type\":\"DataRange1d\"},{\"attributes\":{\"dimension\":1,\"plot\":{\"id\":\"fff433d8-daa0-4c82-8c5f-38a0d7d0c6d9\",\"subtype\":\"Figure\",\"type\":\"Plot\"},\"ticker\":{\"id\":\"8313c685-2603-4d6a-8b35-34fe94fd6979\",\"type\":\"BasicTicker\"}},\"id\":\"421e396f-3a39-47a9-a7ad-e63337dad2a8\",\"type\":\"Grid\"},{\"attributes\":{\"items\":[{\"id\":\"05c92047-6327-47e4-a55f-cc81c3abc874\",\"type\":\"LegendItem\"},{\"id\":\"7447b0f9-0bf8-4bec-a94a-da0a28b0f0eb\",\"type\":\"LegendItem\"}],\"plot\":{\"id\":\"fff433d8-daa0-4c82-8c5f-38a0d7d0c6d9\",\"subtype\":\"Figure\",\"type\":\"Plot\"}},\"id\":\"078c1cbf-76c0-419c-a46d-e18e97311a04\",\"type\":\"Legend\"},{\"attributes\":{\"active_drag\":\"auto\",\"active_inspect\":\"auto\",\"active_scroll\":\"auto\",\"active_tap\":\"auto\",\"tools\":[{\"id\":\"7448fa18-483b-491d-bc44-82f67b8ddc19\",\"type\":\"PanTool\"},{\"id\":\"739b9f9c-7222-4d97-983b-1ce7ba9b4ead\",\"type\":\"BoxZoomTool\"},{\"id\":\"f184497d-67b1-41fc-ae94-c1bd574a45fd\",\"type\":\"ResetTool\"},{\"id\":\"3dcd28ae-e412-4890-9348-e1582d369c86\",\"type\":\"SaveTool\"}]},\"id\":\"0831f783-a18b-4143-b119-c91ece2d6cf2\",\"type\":\"Toolbar\"},{\"attributes\":{\"callback\":null,\"column_names\":[\"x\",\"y\"],\"data\":{\"x\":[1,2,3,4,5],\"y\":{\"__ndarray__\":\"Osok5sOz4D8Br6/nI4fiPyD7PWg2t94/HTLjFNLe1z/FYsMddkbVPw==\",\"dtype\":\"float64\",\"shape\":[5]}}},\"id\":\"6401e95e-71b2-4010-a2d4-4053c54d0b1d\",\"type\":\"ColumnDataSource\"},{\"attributes\":{\"label\":{\"value\":\"down\"},\"renderers\":[{\"id\":\"400a71dd-1da8-4993-bc7b-14651219b8f9\",\"type\":\"GlyphRenderer\"}]},\"id\":\"7447b0f9-0bf8-4bec-a94a-da0a28b0f0eb\",\"type\":\"LegendItem\"},{\"attributes\":{\"plot\":{\"id\":\"fff433d8-daa0-4c82-8c5f-38a0d7d0c6d9\",\"subtype\":\"Figure\",\"type\":\"Plot\"},\"ticker\":{\"id\":\"af0fc1dd-65e5-4fe4-a7e7-f482e3a31e35\",\"type\":\"BasicTicker\"}},\"id\":\"fc1d10ed-e42f-4c3b-a69e-9077b3056cb9\",\"type\":\"Grid\"},{\"attributes\":{\"line_alpha\":{\"value\":0.1},\"line_color\":{\"value\":\"#1f77b4\"},\"x\":{\"field\":\"x\"},\"y\":{\"field\":\"y\"}},\"id\":\"e142fc4d-18a0-419e-b8cb-c9acec073228\",\"type\":\"Line\"},{\"attributes\":{\"bottom_units\":\"screen\",\"fill_alpha\":{\"value\":0.5},\"fill_color\":{\"value\":\"lightgrey\"},\"left_units\":\"screen\",\"level\":\"overlay\",\"line_alpha\":{\"value\":1.0},\"line_color\":{\"value\":\"black\"},\"line_dash\":[4,4],\"line_width\":{\"value\":2},\"plot\":null,\"render_mode\":\"css\",\"right_units\":\"screen\",\"top_units\":\"screen\"},\"id\":\"00045656-fdf5-496e-819e-7440478e2bb9\",\"type\":\"BoxAnnotation\"},{\"attributes\":{\"callback\":null},\"id\":\"febb665c-2983-4284-ad9a-130e7f6188f1\",\"type\":\"DataRange1d\"},{\"attributes\":{},\"id\":\"f184497d-67b1-41fc-ae94-c1bd574a45fd\",\"type\":\"ResetTool\"},{\"attributes\":{},\"id\":\"3dcd28ae-e412-4890-9348-e1582d369c86\",\"type\":\"SaveTool\"},{\"attributes\":{\"below\":[{\"id\":\"df7e5f96-e47f-4253-be80-c5586227ee98\",\"type\":\"LinearAxis\"}],\"left\":[{\"id\":\"ef8ee5cc-3eca-4be0-b053-018b8d2a70fd\",\"type\":\"LinearAxis\"}],\"plot_width\":800,\"renderers\":[{\"id\":\"df7e5f96-e47f-4253-be80-c5586227ee98\",\"type\":\"LinearAxis\"},{\"id\":\"fc1d10ed-e42f-4c3b-a69e-9077b3056cb9\",\"type\":\"Grid\"},{\"id\":\"ef8ee5cc-3eca-4be0-b053-018b8d2a70fd\",\"type\":\"LinearAxis\"},{\"id\":\"421e396f-3a39-47a9-a7ad-e63337dad2a8\",\"type\":\"Grid\"},{\"id\":\"00045656-fdf5-496e-819e-7440478e2bb9\",\"type\":\"BoxAnnotation\"},{\"id\":\"078c1cbf-76c0-419c-a46d-e18e97311a04\",\"type\":\"Legend\"},{\"id\":\"74ebd55c-d858-430c-80af-19e30c1e1821\",\"type\":\"GlyphRenderer\"},{\"id\":\"400a71dd-1da8-4993-bc7b-14651219b8f9\",\"type\":\"GlyphRenderer\"}],\"title\":{\"id\":\"8709ca06-c983-4bbc-93ee-05971905c2ab\",\"type\":\"Title\"},\"toolbar\":{\"id\":\"0831f783-a18b-4143-b119-c91ece2d6cf2\",\"type\":\"Toolbar\"},\"x_range\":{\"id\":\"febb665c-2983-4284-ad9a-130e7f6188f1\",\"type\":\"DataRange1d\"},\"x_scale\":{\"id\":\"f6d9876c-73ff-411b-ae9a-d6048b47006b\",\"type\":\"LinearScale\"},\"y_range\":{\"id\":\"71f8fa4c-1046-405c-97d7-ee58ffefdb90\",\"type\":\"DataRange1d\"},\"y_scale\":{\"id\":\"6a857cba-0af9-45e8-bd72-fee2ce994fbd\",\"type\":\"LinearScale\"}},\"id\":\"fff433d8-daa0-4c82-8c5f-38a0d7d0c6d9\",\"subtype\":\"Figure\",\"type\":\"Plot\"},{\"attributes\":{\"line_alpha\":{\"value\":0.1},\"line_color\":{\"value\":\"#1f77b4\"},\"x\":{\"field\":\"x\"},\"y\":{\"field\":\"y\"}},\"id\":\"be66c2f7-a61f-4384-a26a-5da71bee1a51\",\"type\":\"Line\"},{\"attributes\":{},\"id\":\"af0fc1dd-65e5-4fe4-a7e7-f482e3a31e35\",\"type\":\"BasicTicker\"},{\"attributes\":{\"label\":{\"value\":\"up\"},\"renderers\":[{\"id\":\"74ebd55c-d858-430c-80af-19e30c1e1821\",\"type\":\"GlyphRenderer\"}]},\"id\":\"05c92047-6327-47e4-a55f-cc81c3abc874\",\"type\":\"LegendItem\"},{\"attributes\":{},\"id\":\"6bef941b-08b4-4926-a1d2-dd5e7ba1ecb6\",\"type\":\"BasicTickFormatter\"},{\"attributes\":{\"source\":{\"id\":\"6401e95e-71b2-4010-a2d4-4053c54d0b1d\",\"type\":\"ColumnDataSource\"}},\"id\":\"f17b0e35-f0ce-4a4e-84df-c68714b1fa77\",\"type\":\"CDSView\"},{\"attributes\":{\"data_source\":{\"id\":\"6401e95e-71b2-4010-a2d4-4053c54d0b1d\",\"type\":\"ColumnDataSource\"},\"glyph\":{\"id\":\"5ae32e40-be2d-4a55-af6f-1d506c83c0b2\",\"type\":\"Line\"},\"hover_glyph\":null,\"muted_glyph\":null,\"nonselection_glyph\":{\"id\":\"e142fc4d-18a0-419e-b8cb-c9acec073228\",\"type\":\"Line\"},\"selection_glyph\":null,\"view\":{\"id\":\"f17b0e35-f0ce-4a4e-84df-c68714b1fa77\",\"type\":\"CDSView\"}},\"id\":\"400a71dd-1da8-4993-bc7b-14651219b8f9\",\"type\":\"GlyphRenderer\"},{\"attributes\":{\"data_source\":{\"id\":\"f4e286c0-4383-44d6-8a14-f15b744fe6f3\",\"type\":\"ColumnDataSource\"},\"glyph\":{\"id\":\"be88e2c3-4aa3-404c-afb0-b3076c96a1d7\",\"type\":\"Line\"},\"hover_glyph\":null,\"muted_glyph\":null,\"nonselection_glyph\":{\"id\":\"be66c2f7-a61f-4384-a26a-5da71bee1a51\",\"type\":\"Line\"},\"selection_glyph\":null,\"view\":{\"id\":\"173275b5-1a9a-4e7e-9988-f09d27441ab1\",\"type\":\"CDSView\"}},\"id\":\"74ebd55c-d858-430c-80af-19e30c1e1821\",\"type\":\"GlyphRenderer\"},{\"attributes\":{\"axis_label\":\"datetime\",\"formatter\":{\"id\":\"e4e01ac4-2347-42b5-b770-5b15cc7da7a7\",\"type\":\"BasicTickFormatter\"},\"plot\":{\"id\":\"fff433d8-daa0-4c82-8c5f-38a0d7d0c6d9\",\"subtype\":\"Figure\",\"type\":\"Plot\"},\"ticker\":{\"id\":\"af0fc1dd-65e5-4fe4-a7e7-f482e3a31e35\",\"type\":\"BasicTicker\"}},\"id\":\"df7e5f96-e47f-4253-be80-c5586227ee98\",\"type\":\"LinearAxis\"},{\"attributes\":{},\"id\":\"8313c685-2603-4d6a-8b35-34fe94fd6979\",\"type\":\"BasicTicker\"},{\"attributes\":{},\"id\":\"6a857cba-0af9-45e8-bd72-fee2ce994fbd\",\"type\":\"LinearScale\"},{\"attributes\":{},\"id\":\"e4e01ac4-2347-42b5-b770-5b15cc7da7a7\",\"type\":\"BasicTickFormatter\"},{\"attributes\":{\"source\":{\"id\":\"f4e286c0-4383-44d6-8a14-f15b744fe6f3\",\"type\":\"ColumnDataSource\"}},\"id\":\"173275b5-1a9a-4e7e-9988-f09d27441ab1\",\"type\":\"CDSView\"}],\"root_ids\":[\"fff433d8-daa0-4c82-8c5f-38a0d7d0c6d9\"]},\"title\":\"Bokeh Application\",\"version\":\"0.12.10\"}};\n",
       "    var render_items = [{\"docid\":\"51a3667a-8fab-49e1-871d-8505fd9ef460\",\"elementid\":\"a210cf64-6d6f-4618-a953-6a3e98d4d0c0\",\"modelid\":\"fff433d8-daa0-4c82-8c5f-38a0d7d0c6d9\",\"notebook_comms_target\":\"d61591d7-3316-40d6-ad6b-ddb8bb5080b7\"}];\n",
       "\n",
       "    root.Bokeh.embed.embed_items(docs_json, render_items);\n",
       "  }\n",
       "\n",
       "  if (root.Bokeh !== undefined) {\n",
       "    embed_document(root);\n",
       "  } else {\n",
       "    var attempts = 0;\n",
       "    var timer = setInterval(function(root) {\n",
       "      if (root.Bokeh !== undefined) {\n",
       "        embed_document(root);\n",
       "        clearInterval(timer);\n",
       "      }\n",
       "      attempts++;\n",
       "      if (attempts > 100) {\n",
       "        console.log(\"Bokeh: ERROR: Unable to embed document because BokehJS library is missing\")\n",
       "        clearInterval(timer);\n",
       "      }\n",
       "    }, 10, root)\n",
       "  }\n",
       "})(window);"
      ],
      "application/vnd.bokehjs_exec.v0+json": ""
     },
     "metadata": {
      "application/vnd.bokehjs_exec.v0+json": {
       "id": "fff433d8-daa0-4c82-8c5f-38a0d7d0c6d9"
      }
     },
     "output_type": "display_data"
    },
    {
     "data": {
      "text/html": [
       "<p><code>&lt;Bokeh Notebook handle for <strong>In[314]</strong>&gt;</code></p>"
      ],
      "text/plain": [
       "<bokeh.io.notebook.CommsHandle at 0x1c5c620fb00>"
      ]
     },
     "execution_count": 314,
     "metadata": {},
     "output_type": "execute_result"
    }
   ],
   "source": [
    "# create a new plot\n",
    "p = figure(\n",
    "   tools=\"pan,box_zoom,reset,save\",\n",
    "   title=\"Consecutive Up & Down\",\n",
    "   x_axis_label='datetime', y_axis_label='Perf', plot_width=800\n",
    ")\n",
    "\n",
    "# add some renderers\n",
    "p.line(prev_df.index, prev_df.perf, legend='up', color=\"red\")\n",
    "p.line(prev_df_down.index, prev_df_down.perf, legend=\"down\", color=\"blue\")\n",
    "\n",
    "# show the results\n",
    "show(p, notebook_handle=True)"
   ]
  },
  {
   "cell_type": "code",
   "execution_count": 327,
   "metadata": {
    "scrolled": false
   },
   "outputs": [
    {
     "data": {
      "text/html": [
       "\n",
       "<div class=\"bk-root\">\n",
       "    <div class=\"bk-plotdiv\" id=\"2f0aac39-7c81-47a7-8205-4b83293d79ae\"></div>\n",
       "</div>"
      ]
     },
     "metadata": {},
     "output_type": "display_data"
    },
    {
     "data": {
      "application/javascript": [
       "(function(root) {\n",
       "  function embed_document(root) {\n",
       "    var docs_json = {\"8f070fa0-6e5f-4504-9675-964ab9f51489\":{\"roots\":{\"references\":[{\"attributes\":{\"overlay\":{\"id\":\"85ffbafc-8740-4f0d-ba43-dadfbd12a2a7\",\"type\":\"BoxAnnotation\"}},\"id\":\"0e4e2e60-137d-423e-adda-444a1288ddeb\",\"type\":\"BoxZoomTool\"},{\"attributes\":{\"line_color\":{\"value\":\"red\"},\"x\":{\"field\":\"x\"},\"y\":{\"field\":\"y\"}},\"id\":\"0bef848b-7946-432b-ad5e-0ab8f5aebe85\",\"type\":\"Line\"},{\"attributes\":{\"callback\":null},\"id\":\"f70216e1-98e6-478a-adcf-f2b399804194\",\"type\":\"DataRange1d\"},{\"attributes\":{\"label\":{\"value\":\"down\"},\"renderers\":[{\"id\":\"9548b3b5-283f-4404-8547-4a1bd16c2e73\",\"type\":\"GlyphRenderer\"}]},\"id\":\"0f3ac1d4-f2ca-4a1a-91a7-02c687bf2ac2\",\"type\":\"LegendItem\"},{\"attributes\":{\"source\":{\"id\":\"e02807de-c3a6-425d-92ce-33e681e0f636\",\"type\":\"ColumnDataSource\"}},\"id\":\"faea7b2e-4497-42ff-8f6b-1cd471b6daba\",\"type\":\"CDSView\"},{\"attributes\":{},\"id\":\"c5d6ab8f-b4ab-420a-bbee-9a41231e14d1\",\"type\":\"LinearScale\"},{\"attributes\":{\"line_alpha\":{\"value\":0.1},\"line_color\":{\"value\":\"#1f77b4\"},\"x\":{\"field\":\"x\"},\"y\":{\"field\":\"y\"}},\"id\":\"e9107517-baa8-48f7-a907-c2a3fd9cea8f\",\"type\":\"Line\"},{\"attributes\":{\"callback\":null,\"column_names\":[\"x\",\"y\"],\"data\":{\"x\":[1,2,3,4,5,6],\"y\":{\"__ndarray__\":\"A0OlIJ/6xz8j/kCBQGTUP1vzZ+oK1tE/OfZQgsff0T80juoXzVTRP0zJ+6daBdM/\",\"dtype\":\"float64\",\"shape\":[6]}}},\"id\":\"e3739aad-2374-4feb-b140-2399ef4143bd\",\"type\":\"ColumnDataSource\"},{\"attributes\":{\"data_source\":{\"id\":\"e02807de-c3a6-425d-92ce-33e681e0f636\",\"type\":\"ColumnDataSource\"},\"glyph\":{\"id\":\"0bef848b-7946-432b-ad5e-0ab8f5aebe85\",\"type\":\"Line\"},\"hover_glyph\":null,\"muted_glyph\":null,\"nonselection_glyph\":{\"id\":\"e9107517-baa8-48f7-a907-c2a3fd9cea8f\",\"type\":\"Line\"},\"selection_glyph\":null,\"view\":{\"id\":\"faea7b2e-4497-42ff-8f6b-1cd471b6daba\",\"type\":\"CDSView\"}},\"id\":\"460bcf85-91dd-4cab-9b12-f27c82c8540f\",\"type\":\"GlyphRenderer\"},{\"attributes\":{},\"id\":\"f77e36cf-9ecc-4eb6-a2d8-82b2ce25d69f\",\"type\":\"ResetTool\"},{\"attributes\":{\"dimension\":1,\"plot\":{\"id\":\"3407f7a2-6227-4037-b75d-da12deaaf6b0\",\"subtype\":\"Figure\",\"type\":\"Plot\"},\"ticker\":{\"id\":\"7503d266-f356-4302-b420-1fe00bb6415b\",\"type\":\"BasicTicker\"}},\"id\":\"c987cd84-2e8e-479f-9403-42531ed14134\",\"type\":\"Grid\"},{\"attributes\":{\"axis_label\":\"Perf\",\"formatter\":{\"id\":\"d7cf4440-16fa-4974-acac-a45405166ded\",\"type\":\"BasicTickFormatter\"},\"plot\":{\"id\":\"3407f7a2-6227-4037-b75d-da12deaaf6b0\",\"subtype\":\"Figure\",\"type\":\"Plot\"},\"ticker\":{\"id\":\"7503d266-f356-4302-b420-1fe00bb6415b\",\"type\":\"BasicTicker\"}},\"id\":\"0b5c7c59-ed81-4e69-b379-4b0b78cc936a\",\"type\":\"LinearAxis\"},{\"attributes\":{},\"id\":\"22ade687-7ea3-4d08-a9c2-2c0509c68816\",\"type\":\"SaveTool\"},{\"attributes\":{\"line_alpha\":{\"value\":0.1},\"line_color\":{\"value\":\"#1f77b4\"},\"x\":{\"field\":\"x\"},\"y\":{\"field\":\"y\"}},\"id\":\"f3e3c944-10e7-4172-a01e-866439bc912c\",\"type\":\"Line\"},{\"attributes\":{\"below\":[{\"id\":\"15d6d038-98ae-4264-a6d6-07d36b755eaf\",\"type\":\"LinearAxis\"}],\"left\":[{\"id\":\"0b5c7c59-ed81-4e69-b379-4b0b78cc936a\",\"type\":\"LinearAxis\"}],\"plot_width\":800,\"renderers\":[{\"id\":\"15d6d038-98ae-4264-a6d6-07d36b755eaf\",\"type\":\"LinearAxis\"},{\"id\":\"a0e41df7-c5a9-4012-a319-157ff3802ca1\",\"type\":\"Grid\"},{\"id\":\"0b5c7c59-ed81-4e69-b379-4b0b78cc936a\",\"type\":\"LinearAxis\"},{\"id\":\"c987cd84-2e8e-479f-9403-42531ed14134\",\"type\":\"Grid\"},{\"id\":\"85ffbafc-8740-4f0d-ba43-dadfbd12a2a7\",\"type\":\"BoxAnnotation\"},{\"id\":\"98a3d99c-0144-4ef8-b173-17a0909c7b33\",\"type\":\"Legend\"},{\"id\":\"460bcf85-91dd-4cab-9b12-f27c82c8540f\",\"type\":\"GlyphRenderer\"},{\"id\":\"9548b3b5-283f-4404-8547-4a1bd16c2e73\",\"type\":\"GlyphRenderer\"}],\"title\":{\"id\":\"9515495a-395b-442e-8f73-20486e6b23ef\",\"type\":\"Title\"},\"toolbar\":{\"id\":\"0ba32e45-817c-4572-98d6-d6645b59d1ca\",\"type\":\"Toolbar\"},\"x_range\":{\"id\":\"23c9390b-c7f4-4bee-a58d-8ab019117c16\",\"type\":\"DataRange1d\"},\"x_scale\":{\"id\":\"c5d6ab8f-b4ab-420a-bbee-9a41231e14d1\",\"type\":\"LinearScale\"},\"y_range\":{\"id\":\"f70216e1-98e6-478a-adcf-f2b399804194\",\"type\":\"DataRange1d\"},\"y_scale\":{\"id\":\"1ec2950c-c04b-4550-b1c8-0d374acf0d33\",\"type\":\"LinearScale\"}},\"id\":\"3407f7a2-6227-4037-b75d-da12deaaf6b0\",\"subtype\":\"Figure\",\"type\":\"Plot\"},{\"attributes\":{\"items\":[{\"id\":\"31642d86-45f4-466e-8a0a-c54223dc7746\",\"type\":\"LegendItem\"},{\"id\":\"0f3ac1d4-f2ca-4a1a-91a7-02c687bf2ac2\",\"type\":\"LegendItem\"}],\"plot\":{\"id\":\"3407f7a2-6227-4037-b75d-da12deaaf6b0\",\"subtype\":\"Figure\",\"type\":\"Plot\"}},\"id\":\"98a3d99c-0144-4ef8-b173-17a0909c7b33\",\"type\":\"Legend\"},{\"attributes\":{\"callback\":null},\"id\":\"23c9390b-c7f4-4bee-a58d-8ab019117c16\",\"type\":\"DataRange1d\"},{\"attributes\":{\"plot\":null,\"text\":\"Consecutive Up & Down\"},\"id\":\"9515495a-395b-442e-8f73-20486e6b23ef\",\"type\":\"Title\"},{\"attributes\":{\"plot\":{\"id\":\"3407f7a2-6227-4037-b75d-da12deaaf6b0\",\"subtype\":\"Figure\",\"type\":\"Plot\"},\"ticker\":{\"id\":\"075f6387-f805-4269-bb7c-68413b99da25\",\"type\":\"BasicTicker\"}},\"id\":\"a0e41df7-c5a9-4012-a319-157ff3802ca1\",\"type\":\"Grid\"},{\"attributes\":{},\"id\":\"3d3415e4-9e58-4c05-8246-13378db9f361\",\"type\":\"PanTool\"},{\"attributes\":{\"callback\":null,\"column_names\":[\"x\",\"y\"],\"data\":{\"x\":[1,2,3,4,5,6],\"y\":{\"__ndarray__\":\"PcKmhuQi8T9ZFCFuz4XoP14adR6zdes/olxJOX295z/z8yGnlq/oP9aQDagDp+g/\",\"dtype\":\"float64\",\"shape\":[6]}}},\"id\":\"e02807de-c3a6-425d-92ce-33e681e0f636\",\"type\":\"ColumnDataSource\"},{\"attributes\":{\"axis_label\":\"datetime\",\"formatter\":{\"id\":\"04e3c910-3e7e-4213-8976-fe1fc3dfd3b6\",\"type\":\"BasicTickFormatter\"},\"plot\":{\"id\":\"3407f7a2-6227-4037-b75d-da12deaaf6b0\",\"subtype\":\"Figure\",\"type\":\"Plot\"},\"ticker\":{\"id\":\"075f6387-f805-4269-bb7c-68413b99da25\",\"type\":\"BasicTicker\"}},\"id\":\"15d6d038-98ae-4264-a6d6-07d36b755eaf\",\"type\":\"LinearAxis\"},{\"attributes\":{},\"id\":\"04e3c910-3e7e-4213-8976-fe1fc3dfd3b6\",\"type\":\"BasicTickFormatter\"},{\"attributes\":{},\"id\":\"d7cf4440-16fa-4974-acac-a45405166ded\",\"type\":\"BasicTickFormatter\"},{\"attributes\":{},\"id\":\"075f6387-f805-4269-bb7c-68413b99da25\",\"type\":\"BasicTicker\"},{\"attributes\":{\"data_source\":{\"id\":\"e3739aad-2374-4feb-b140-2399ef4143bd\",\"type\":\"ColumnDataSource\"},\"glyph\":{\"id\":\"53bb32b3-e3e9-4d73-96f1-c822fa9ba910\",\"type\":\"Line\"},\"hover_glyph\":null,\"muted_glyph\":null,\"nonselection_glyph\":{\"id\":\"f3e3c944-10e7-4172-a01e-866439bc912c\",\"type\":\"Line\"},\"selection_glyph\":null,\"view\":{\"id\":\"e5b1d673-0f2d-4c7a-902b-e8e1ab7dfc5d\",\"type\":\"CDSView\"}},\"id\":\"9548b3b5-283f-4404-8547-4a1bd16c2e73\",\"type\":\"GlyphRenderer\"},{\"attributes\":{\"active_drag\":\"auto\",\"active_inspect\":\"auto\",\"active_scroll\":\"auto\",\"active_tap\":\"auto\",\"tools\":[{\"id\":\"3d3415e4-9e58-4c05-8246-13378db9f361\",\"type\":\"PanTool\"},{\"id\":\"0e4e2e60-137d-423e-adda-444a1288ddeb\",\"type\":\"BoxZoomTool\"},{\"id\":\"f77e36cf-9ecc-4eb6-a2d8-82b2ce25d69f\",\"type\":\"ResetTool\"},{\"id\":\"22ade687-7ea3-4d08-a9c2-2c0509c68816\",\"type\":\"SaveTool\"}]},\"id\":\"0ba32e45-817c-4572-98d6-d6645b59d1ca\",\"type\":\"Toolbar\"},{\"attributes\":{\"bottom_units\":\"screen\",\"fill_alpha\":{\"value\":0.5},\"fill_color\":{\"value\":\"lightgrey\"},\"left_units\":\"screen\",\"level\":\"overlay\",\"line_alpha\":{\"value\":1.0},\"line_color\":{\"value\":\"black\"},\"line_dash\":[4,4],\"line_width\":{\"value\":2},\"plot\":null,\"render_mode\":\"css\",\"right_units\":\"screen\",\"top_units\":\"screen\"},\"id\":\"85ffbafc-8740-4f0d-ba43-dadfbd12a2a7\",\"type\":\"BoxAnnotation\"},{\"attributes\":{},\"id\":\"7503d266-f356-4302-b420-1fe00bb6415b\",\"type\":\"BasicTicker\"},{\"attributes\":{},\"id\":\"1ec2950c-c04b-4550-b1c8-0d374acf0d33\",\"type\":\"LinearScale\"},{\"attributes\":{\"source\":{\"id\":\"e3739aad-2374-4feb-b140-2399ef4143bd\",\"type\":\"ColumnDataSource\"}},\"id\":\"e5b1d673-0f2d-4c7a-902b-e8e1ab7dfc5d\",\"type\":\"CDSView\"},{\"attributes\":{\"label\":{\"value\":\"up\"},\"renderers\":[{\"id\":\"460bcf85-91dd-4cab-9b12-f27c82c8540f\",\"type\":\"GlyphRenderer\"}]},\"id\":\"31642d86-45f4-466e-8a0a-c54223dc7746\",\"type\":\"LegendItem\"},{\"attributes\":{\"line_color\":{\"value\":\"blue\"},\"x\":{\"field\":\"x\"},\"y\":{\"field\":\"y\"}},\"id\":\"53bb32b3-e3e9-4d73-96f1-c822fa9ba910\",\"type\":\"Line\"}],\"root_ids\":[\"3407f7a2-6227-4037-b75d-da12deaaf6b0\"]},\"title\":\"Bokeh Application\",\"version\":\"0.12.10\"}};\n",
       "    var render_items = [{\"docid\":\"8f070fa0-6e5f-4504-9675-964ab9f51489\",\"elementid\":\"2f0aac39-7c81-47a7-8205-4b83293d79ae\",\"modelid\":\"3407f7a2-6227-4037-b75d-da12deaaf6b0\",\"notebook_comms_target\":\"6bdc269a-6f3b-4caa-8a63-431dc9d26955\"}];\n",
       "\n",
       "    root.Bokeh.embed.embed_items(docs_json, render_items);\n",
       "  }\n",
       "\n",
       "  if (root.Bokeh !== undefined) {\n",
       "    embed_document(root);\n",
       "  } else {\n",
       "    var attempts = 0;\n",
       "    var timer = setInterval(function(root) {\n",
       "      if (root.Bokeh !== undefined) {\n",
       "        embed_document(root);\n",
       "        clearInterval(timer);\n",
       "      }\n",
       "      attempts++;\n",
       "      if (attempts > 100) {\n",
       "        console.log(\"Bokeh: ERROR: Unable to embed document because BokehJS library is missing\")\n",
       "        clearInterval(timer);\n",
       "      }\n",
       "    }, 10, root)\n",
       "  }\n",
       "})(window);"
      ],
      "application/vnd.bokehjs_exec.v0+json": ""
     },
     "metadata": {
      "application/vnd.bokehjs_exec.v0+json": {
       "id": "3407f7a2-6227-4037-b75d-da12deaaf6b0"
      }
     },
     "output_type": "display_data"
    },
    {
     "data": {
      "text/html": [
       "<p><code>&lt;Bokeh Notebook handle for <strong>In[327]</strong>&gt;</code></p>"
      ],
      "text/plain": [
       "<bokeh.io.notebook.CommsHandle at 0x1c5c620c5c0>"
      ]
     },
     "execution_count": 327,
     "metadata": {},
     "output_type": "execute_result"
    }
   ],
   "source": [
    "# create a new plot\n",
    "p = figure(\n",
    "   tools=\"pan,box_zoom,reset,save\",\n",
    "   title=\"Consecutive Up & Down\",\n",
    "   x_axis_label='datetime', y_axis_label='Perf', plot_width=800\n",
    ")\n",
    "\n",
    "# add some renderers\n",
    "p.line(forward_df.index, forward_df.perf, legend='up', color=\"red\")\n",
    "p.line(forward_df_down.index, forward_df_down.perf, legend=\"down\", color=\"blue\")\n",
    "\n",
    "# show the results\n",
    "show(p, notebook_handle=True)"
   ]
  },
  {
   "cell_type": "markdown",
   "metadata": {
    "collapsed": true
   },
   "source": [
    "활용방안\n",
    "----------\n",
    "\n",
    "3분이상 연속으로 상승한 경우  그 다음 봉도 증가할 확률이 높다.\n",
    "\n",
    "만약 해당 코인을 보유하고 있을 경우, 그 다음 봉에 코인을 보유할지 말지에 대한 기준이 될 수 있을 것 같다.\n",
    "\n",
    "코인을 보유하고 있지 않을 경우, 3~4분 연속으로 양봉이 나오는 시점에 매입을 고민하면 좋을 듯하다.\n",
    "\n",
    "문제점 및 한계\n",
    "----------\n",
    "\n",
    "1. UP,DOWN만 활용했기 때문에 상대 강도를 확인하지 못한다. 10%오른것과 0.1%오른 것이 같은 비중으로 처리된다.\n",
    "\n",
    "2. 1분뒤의 결과만 확인했기 때문에 그 이후의 사정에 대해 알려주지 못한다. 1분뒤 상승하더라도 그 이후 추세가 하락할 수 있다. 반대로 1분뒤 하락하더라도 그 이후 전반적인 추세가 역전될 수 있다. 즉 전반적인 추세를 반영하지 못하는 한계가 있다.\n",
    "\n",
    "3. 연속 상승/연속 하락이 아니라도 그에 준하는 경우, 예를 들어 4분간 1%, 2%, -0.1%, 3%의 수익률을 기록했다고 하자. 이는 실제로는 거의 연3상승에 준하지만 실제로는 1회 상승이라고 반영된다. (노이즈)\n",
    "\n",
    "4. 1분간의 평균 가격은 1분이 지나야 확실히 알 수 있으므로 look-forward bias가 있을 수 있다. 4분연속 상승한 것을 확인하고 매입할 때는 이미 오른 이후일 수 있다. \n",
    "\n",
    "추가분석\n",
    "----------\n",
    "1. 1분봉 뿐만이 아니라, 5분봉, 10분봉, 30분봉, 60분봉, 일봉에 대해서도 확인\n",
    "2. 가격 대신, 이동평균을 이용하여 문제점 3과 같은 문제를 보완 (노이즈 제거)\n",
    "3. 1분후뿐만이 아니라 그 이후의 추이에 대해서도 확인"
   ]
  },
  {
   "cell_type": "markdown",
   "metadata": {},
   "source": [
    "비트코인 이외에 다른 코인들도 해봐야함."
   ]
  },
  {
   "cell_type": "code",
   "execution_count": null,
   "metadata": {
    "collapsed": true
   },
   "outputs": [],
   "source": []
  }
 ],
 "metadata": {
  "kernelspec": {
   "display_name": "Python 3",
   "language": "python",
   "name": "python3"
  },
  "language_info": {
   "codemirror_mode": {
    "name": "ipython",
    "version": 3
   },
   "file_extension": ".py",
   "mimetype": "text/x-python",
   "name": "python",
   "nbconvert_exporter": "python",
   "pygments_lexer": "ipython3",
   "version": "3.6.3"
  }
 },
 "nbformat": 4,
 "nbformat_minor": 2
}
